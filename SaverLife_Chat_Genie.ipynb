{
 "cells": [
  {
   "cell_type": "markdown",
   "id": "7c14dde9",
   "metadata": {},
   "source": [
    "<img src=\"saverlife.png\" width=\"400\">"
   ]
  },
  {
   "cell_type": "code",
   "execution_count": 1,
   "id": "cc42211b",
   "metadata": {},
   "outputs": [],
   "source": [
    "import ipywidgets as widgets\n",
    "from fastai.text.all import *\n",
    "import urllib.request\n",
    "from os.path import exists\n",
    "import requests"
   ]
  },
  {
   "cell_type": "code",
   "execution_count": 2,
   "id": "03b6d9e4",
   "metadata": {},
   "outputs": [],
   "source": [
    "MODEL_URL = \"https://www.dropbox.com/s/49f9shqvc9tj13b/model_augmented_july6.pkl?dl=1\"\n",
    "if not exists('model_augmented_july6.pkl'):\n",
    "    urllib.request.urlretrieve(MODEL_URL, \"model_augmented_july6.pkl\")\n",
    "\n",
    "learn = load_learner(\"model_augmented_july6.pkl\")\n",
    "sdf = pd.read_pickle('segdf_augmented_jul6.pkl')"
   ]
  },
  {
   "cell_type": "code",
   "execution_count": 3,
   "id": "161eac4b",
   "metadata": {},
   "outputs": [],
   "source": [
    "textbox = widgets.Text(\n",
    "    value='How do I save more money?',\n",
    "    placeholder='Write your question here!',\n",
    "    description='Question:',\n",
    "    disabled=False,\n",
    "    continuous_update=False,\n",
    "    layout=widgets.Layout(width='500px')\n",
    ")"
   ]
  },
  {
   "cell_type": "code",
   "execution_count": 64,
   "id": "894cc292",
   "metadata": {},
   "outputs": [],
   "source": [
    "class preds:\n",
    "    question = None\n",
    "    DF = None\n",
    "    email = ''\n",
    "    num_results = 13\n",
    "    results = []\n",
    "    options = ['Did that answer your question?', 'Yes', 'Somewhat', \"Not at all\"]\n",
    "\n",
    "    \n",
    "def get_predictions(text):\n",
    "    pred = learn.predict(text)\n",
    "    df = pd.DataFrame(pred[2], columns = ['pct'])\n",
    "    df['label_idx'] = df.index\n",
    "    df = df.sort_values('pct', ascending=False).iloc[:50]\n",
    "    url_df = pd.DataFrame(learn.dls.vocab[1])\n",
    "    url_df['label_idx'] = url_df.index\n",
    "    df = df.merge(url_df)\n",
    "    df.columns = ['pct', 'idx', 'url_segment']\n",
    "    df = df.merge(sdf)\n",
    "    df['score'] = df['pct'] * df['multiplier']\n",
    "    df = df.sort_values('score', ascending=False).reset_index()\n",
    "    preds.DF = df\n",
    "    preds.question = text\n",
    "\n",
    "    \n",
    "def write_db(data):\n",
    "    headers = {'Content-type': 'application/json'}\n",
    "    if preds.email:\n",
    "        data = data[:-1] + ',\\\"email\\\":\\\"' + preds.email + '\"}'\n",
    "    response = requests.post(\n",
    "        'https://sl2-datascience-api.herokuapp.com/rate_bot_response/',\n",
    "        headers=headers, data=data)\n",
    "    return(response)\n",
    "    \n",
    "    \n",
    "def store_rating(Rating, result):\n",
    "    if Rating != 'Did that answer your question?':\n",
    "        question = preds.question.replace(\"'\", \"''\")\n",
    "        dic = {'Yes': 1, 'Somewhat': 2, 'Not at all': 3}\n",
    "        url = preds.DF.iloc[result]['url']\n",
    "        segment = int(preds.DF.iloc[result]['segment'])\n",
    "        data = '{\\\"question\\\":\\\"' + question + \\\n",
    "            '\\\",\\\"url\\\":\\\"' + url + \\\n",
    "            '\\\",\\\"segment\\\":\\\"' + str(segment) + \\\n",
    "            '\\\",\\\"rating\\\":\\\"' + Rating + \\\n",
    "            '\\\",\\\"result\\\":\\\"' + str(result+1) + '\"}'\n",
    "#         if preds.email:\n",
    "#             data = data[:-1] + ',\\\"email\\\":\\\"' + preds.email + '\"}'\n",
    "        response = write_db(data)\n",
    "        if response.json():\n",
    "            print(f'\\033[91m There was an error storing your rating. Did you use \"quotes\"?')\n",
    "            print(response.json())\n",
    "        else: print(f'\\033[36m Thank You for rating result #{result+1}!')\n",
    "        response.close()\n",
    "    else: print('')\n",
    "        \n",
    "    \n",
    "def setup_text():\n",
    "    preds.results = []\n",
    "    for n in range(preds.num_results):\n",
    "        preds.results += [widgets.HTML(value=f\"\"\"\n",
    "            <hr><b><h2 text style =\"line-height:1.5;\"><center>{preds.DF.headline[n]}</center></h2>\n",
    "            <h3 text style=\"color:GREEN; line-height:1.5;\">{preds.DF.subheading[n]}</b></h3>\n",
    "            <p text style =\"line-height:1.5;\">{preds.DF.text[n]}</p>\n",
    "            <text style=\"color:BLUE;\"><a href=\"{preds.DF.url[n]}\" target=\"_blank\">\n",
    "            Read the article on the Saverlife blog</a>\"\"\")]\n",
    "    \n",
    "    \n",
    "def display_text():\n",
    "    display(widgets.HTML(f'''<h4 text style =\"line-height:1.5;\"> Top {preds.num_results} Results for\n",
    "        \"{preds.question}\" </h4> <p text style =\"line-height:1.5;\">Please rate your results\n",
    "        and enter your email (optional) below'''))\n",
    "    widgets.interact(set_email, email='example@saverlife.org')\n",
    "    for n in range(preds.num_results):\n",
    "        display(preds.results[n])\n",
    "        widgets.interact(store_rating, Rating=preds.options,\n",
    "                         result = widgets.fixed(n));\n",
    "\n",
    "def store_search(n):\n",
    "    data = '{\\\"question\\\":\\\"' + preds.question.replace(\"'\", \"''\") + \\\n",
    "        '\\\",\\\"url\\\":\\\"NA' + \\\n",
    "        '\\\",\\\"segment\\\":\\\"0' + \\\n",
    "        '\\\",\\\"rating\\\":\\\"None' + \\\n",
    "        '\\\",\\\"result\\\":\\\"' + str(n) + '\"}'\n",
    "    print(data)\n",
    "    write_db(data)\n",
    "        \n",
    "        \n",
    "def run_predictions(text, n):\n",
    "    preds.num_results = n\n",
    "    get_predictions(text)\n",
    "    store_search(n)\n",
    "    setup_text()\n",
    "    display_text()\n",
    "    \n",
    "    \n",
    "def set_email(email):\n",
    "    if email != 'example@saverlife.org': preds.email = email"
   ]
  },
  {
   "cell_type": "code",
   "execution_count": 65,
   "id": "5ccf5b7c",
   "metadata": {},
   "outputs": [
    {
     "data": {
      "application/vnd.jupyter.widget-view+json": {
       "model_id": "7e3f1e3805244232afc57e5c277ae75b",
       "version_major": 2,
       "version_minor": 0
      },
      "text/plain": [
       "HTML(value='<H1><Center>Chat Genie Demo</h1><H2>Write a question and hit enter')"
      ]
     },
     "metadata": {},
     "output_type": "display_data"
    }
   ],
   "source": [
    "widgets.HTML('<H1><Center>Chat Genie Demo</h1><H2>Write a question and hit enter')"
   ]
  },
  {
   "cell_type": "code",
   "execution_count": 66,
   "id": "21cccf02",
   "metadata": {},
   "outputs": [
    {
     "data": {
      "application/vnd.jupyter.widget-view+json": {
       "model_id": "a7679508c6524e99a4b1f866c846d320",
       "version_major": 2,
       "version_minor": 0
      },
      "text/plain": [
       "HBox(children=(VBox(children=(Text(value='How do I save more test1?', continuous_update=False, description='Qu…"
      ]
     },
     "metadata": {},
     "output_type": "display_data"
    }
   ],
   "source": [
    "widgets.HBox([widgets.VBox([textbox])])"
   ]
  },
  {
   "cell_type": "code",
   "execution_count": 67,
   "id": "bea14cde",
   "metadata": {},
   "outputs": [
    {
     "data": {
      "application/vnd.jupyter.widget-view+json": {
       "model_id": "3af24632f6324ed498edc8d0e5fb3a6c",
       "version_major": 2,
       "version_minor": 0
      },
      "text/plain": [
       "IntSlider(value=5, continuous_update=False, description='Responses', max=25, min=1)"
      ]
     },
     "metadata": {},
     "output_type": "display_data"
    }
   ],
   "source": [
    "slider = widgets.IntSlider(\n",
    "    description='Responses', max=25, min=1, value=5, continuous_update=False)\n",
    "display(slider)"
   ]
  },
  {
   "cell_type": "code",
   "execution_count": 68,
   "id": "7aab08b4",
   "metadata": {},
   "outputs": [
    {
     "data": {
      "application/vnd.jupyter.widget-view+json": {
       "model_id": "6b5b97c3675d4e8ca647dead6c89a72b",
       "version_major": 2,
       "version_minor": 0
      },
      "text/plain": [
       "HBox(children=(VBox(children=(Output(),)),), layout=Layout(width='95%'))"
      ]
     },
     "metadata": {},
     "output_type": "display_data"
    }
   ],
   "source": [
    "iw = widgets.interactive_output(run_predictions, {'text': textbox, 'n': slider})\n",
    "z = widgets.HBox([widgets.VBox([iw])], text_width='300px')\n",
    "z.layout.width = '95%'\n",
    "z"
   ]
  },
  {
   "cell_type": "code",
   "execution_count": 10,
   "id": "4ba5c843",
   "metadata": {},
   "outputs": [
    {
     "data": {
      "application/vnd.jupyter.widget-view+json": {
       "model_id": "a25451770eb94637bd133dfa3bae1d6e",
       "version_major": 2,
       "version_minor": 0
      },
      "text/plain": [
       "HTML(value=\"<HR><H4>If you didn't find what you were looking for,\\n    try increasing the number of responses …"
      ]
     },
     "metadata": {},
     "output_type": "display_data"
    },
    {
     "data": {
      "application/vnd.jupyter.widget-view+json": {
       "model_id": "c96e8018dd074523807e58bc5c4450f1",
       "version_major": 2,
       "version_minor": 0
      },
      "text/plain": [
       "IntSlider(value=5, continuous_update=False, description='Responses', max=25, min=1)"
      ]
     },
     "metadata": {},
     "output_type": "display_data"
    },
    {
     "data": {
      "application/vnd.jupyter.widget-view+json": {
       "model_id": "677dea77bf0a40bdb79abea69caecc0d",
       "version_major": 2,
       "version_minor": 0
      },
      "text/plain": [
       "HBox(children=(VBox(children=(Text(value='How do I save more money?', continuous_update=False, description='Qu…"
      ]
     },
     "metadata": {},
     "output_type": "display_data"
    }
   ],
   "source": [
    "display(widgets.HTML(\"\"\"<HR><H4>If you didn't find what you were looking for,\n",
    "    try increasing the number of responses or rehrasing your question\"\"\"))\n",
    "display(slider)\n",
    "widgets.HBox([widgets.VBox([textbox])])"
   ]
  },
  {
   "cell_type": "code",
   "execution_count": null,
   "id": "e06785a5",
   "metadata": {},
   "outputs": [],
   "source": []
  }
 ],
 "metadata": {
  "environment": {
   "name": "common-cu110.m76",
   "type": "gcloud",
   "uri": "gcr.io/deeplearning-platform-release/base-cu110:m76"
  },
  "kernelspec": {
   "display_name": "fastai",
   "language": "python",
   "name": "fastai"
  },
  "language_info": {
   "codemirror_mode": {
    "name": "ipython",
    "version": 3
   },
   "file_extension": ".py",
   "mimetype": "text/x-python",
   "name": "python",
   "nbconvert_exporter": "python",
   "pygments_lexer": "ipython3",
   "version": "3.8.10"
  }
 },
 "nbformat": 4,
 "nbformat_minor": 5
}
