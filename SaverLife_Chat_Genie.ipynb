{
 "cells": [
  {
   "cell_type": "markdown",
   "id": "7c14dde9",
   "metadata": {},
   "source": [
    "<img src=\"saverlife.png\" width=\"400\">"
   ]
  },
  {
   "cell_type": "code",
   "execution_count": 1,
   "id": "cc42211b",
   "metadata": {},
   "outputs": [],
   "source": [
    "import ipywidgets as widgets\n",
    "import urllib.request\n",
    "from os.path import exists\n",
    "import requests\n",
    "import pandas as pd\n",
    "import json"
   ]
  },
  {
   "cell_type": "code",
   "execution_count": 2,
   "id": "fca8ffe4",
   "metadata": {},
   "outputs": [
    {
     "data": {
      "application/vnd.jupyter.widget-view+json": {
       "model_id": "cf89aa27b91b407e8981abc19d0e4cca",
       "version_major": 2,
       "version_minor": 0
      },
      "text/plain": [
       "HTML(value='<H1><Center>Chat Genie Demo</h1><H2>Write a question and hit enter')"
      ]
     },
     "metadata": {},
     "output_type": "display_data"
    }
   ],
   "source": [
    "widgets.HTML('<H1><Center>Chat Genie Demo</h1><H2>Write a question and hit enter')"
   ]
  },
  {
   "cell_type": "code",
   "execution_count": 3,
   "id": "161eac4b",
   "metadata": {},
   "outputs": [],
   "source": [
    "textbox = widgets.Text(\n",
    "    value='How do I save more money?',\n",
    "    placeholder='Write your question here!',\n",
    "    description='Question:',\n",
    "    disabled=False,\n",
    "    continuous_update=False,\n",
    "    layout=widgets.Layout(width='500px')\n",
    ")"
   ]
  },
  {
   "cell_type": "code",
   "execution_count": 4,
   "id": "894cc292",
   "metadata": {},
   "outputs": [],
   "source": [
    "class preds:\n",
    "    question = None\n",
    "    DF = None\n",
    "    email = ''\n",
    "    num_results = 13\n",
    "    results = []\n",
    "    options = ['Did that answer your question?', 'Yes', 'Somewhat', \"Not at all\"]\n",
    "\n",
    "    \n",
    "def get_predictions(text):\n",
    "    data = '{\\\"data\\\":[\\\"' + text + '\\\"]}'\n",
    "    url = 'https://hf.space/embed/mattlichti/slblog/+/api/predict'\n",
    "    response = requests.post(url, data=data)\n",
    "    preds.DF = pd.DataFrame(json.loads(response.json()['data'][0]))\n",
    "    preds.question = text\n",
    "\n",
    "    \n",
    "def write_db(data):\n",
    "    headers = {'Content-type': 'application/json'}\n",
    "    if preds.email:\n",
    "        data = data[:-1] + ',\\\"email\\\":\\\"' + preds.email + '\"}'\n",
    "    response = requests.post(\n",
    "        'https://sl2-datascience-api.herokuapp.com/rate_bot_response/',\n",
    "        headers=headers, data=data)\n",
    "    return(response)\n",
    "    \n",
    "    \n",
    "def store_rating(Rating, result):\n",
    "    if Rating != 'Did that answer your question?':\n",
    "        question = preds.question.replace(\"'\", \"''\")\n",
    "        dic = {'Yes': 1, 'Somewhat': 2, 'Not at all': 3}\n",
    "        url = preds.DF.iloc[result]['url']\n",
    "        segment = int(preds.DF.iloc[result]['segment'])\n",
    "        data = '{\\\"question\\\":\\\"' + question + \\\n",
    "            '\\\",\\\"url\\\":\\\"' + url + \\\n",
    "            '\\\",\\\"segment\\\":\\\"' + str(segment) + \\\n",
    "            '\\\",\\\"rating\\\":\\\"' + Rating + \\\n",
    "            '\\\",\\\"result\\\":\\\"' + str(result+1) + '\"}'\n",
    "#         if preds.email:\n",
    "#             data = data[:-1] + ',\\\"email\\\":\\\"' + preds.email + '\"}'\n",
    "        response = write_db(data)\n",
    "        if response.json():\n",
    "            print(f'\\033[91m There was an error storing your rating. Did you use \"quotes\"?')\n",
    "            print(response.json())\n",
    "        else: print(f'\\033[36m Thank You for rating result #{result+1}!')\n",
    "        response.close()\n",
    "    else: print('')\n",
    "        \n",
    "    \n",
    "def setup_text():\n",
    "    preds.results = []\n",
    "    for n in range(preds.num_results):\n",
    "        preds.results += [widgets.HTML(value=f\"\"\"\n",
    "            <hr><b><h2 text style =\"line-height:1.5;\"><center>{preds.DF.headline[n]}</center></h2>\n",
    "            <h3 text style=\"color:GREEN; line-height:1.5;\">{preds.DF.subheading[n]}</b></h3>\n",
    "            <p text style =\"line-height:1.5;\">{preds.DF.text[n]}</p>\n",
    "            <text style=\"color:BLUE;\"><a href=\"{preds.DF.url[n]}\" target=\"_blank\">\n",
    "            Read the article on the Saverlife blog</a>\"\"\")]\n",
    "    \n",
    "    \n",
    "def display_text():\n",
    "    display(widgets.HTML(f'''<h4 text style =\"line-height:1.5;\"> Top {preds.num_results}\n",
    "        Results for \"{preds.question}\" '''))\n",
    "#     </h4> <p text style =\"line-height:1.5;\">Please rate your results below\n",
    "#     widgets.interact(set_email, email='example@saverlife.org')\n",
    "    for n in range(preds.num_results):\n",
    "        display(preds.results[n])\n",
    "        widgets.interact(store_rating, Rating=preds.options,\n",
    "                         result = widgets.fixed(n));\n",
    "\n",
    "def store_search(n):\n",
    "    data = '{\\\"question\\\":\\\"' + preds.question.replace(\"'\", \"''\") + \\\n",
    "        '\\\",\\\"url\\\":\\\"NA' + \\\n",
    "        '\\\",\\\"segment\\\":\\\"0' + \\\n",
    "        '\\\",\\\"rating\\\":\\\"None' + \\\n",
    "        '\\\",\\\"result\\\":\\\"' + str(n) + '\"}'\n",
    "    write_db(data)\n",
    "        \n",
    "        \n",
    "def run_predictions(text, n):\n",
    "    preds.num_results = n\n",
    "    get_predictions(text)\n",
    "    store_search(n)\n",
    "    setup_text()\n",
    "    display_text()\n",
    "    \n",
    "    \n",
    "def set_email(email):\n",
    "    if email != 'example@saverlife.org': preds.email = email"
   ]
  },
  {
   "cell_type": "code",
   "execution_count": 5,
   "id": "21cccf02",
   "metadata": {},
   "outputs": [
    {
     "data": {
      "application/vnd.jupyter.widget-view+json": {
       "model_id": "dcdd8abfeb934da0ae5b60b3093a6fac",
       "version_major": 2,
       "version_minor": 0
      },
      "text/plain": [
       "HBox(children=(VBox(children=(Text(value='How do I save more money?', continuous_update=False, description='Qu…"
      ]
     },
     "metadata": {},
     "output_type": "display_data"
    }
   ],
   "source": [
    "widgets.HBox([widgets.VBox([textbox])])"
   ]
  },
  {
   "cell_type": "code",
   "execution_count": 6,
   "id": "bea14cde",
   "metadata": {},
   "outputs": [
    {
     "data": {
      "application/vnd.jupyter.widget-view+json": {
       "model_id": "ecf351371e184dad854e02d4a7df718c",
       "version_major": 2,
       "version_minor": 0
      },
      "text/plain": [
       "HTML(value='<H4>Select the number of results, enter your email\\n    (optional), and rate your responses below'…"
      ]
     },
     "metadata": {},
     "output_type": "display_data"
    },
    {
     "data": {
      "application/vnd.jupyter.widget-view+json": {
       "model_id": "25568d93271e4990a4fcb354aa175d41",
       "version_major": 2,
       "version_minor": 0
      },
      "text/plain": [
       "IntSlider(value=5, continuous_update=False, description='Responses', max=25, min=1)"
      ]
     },
     "metadata": {},
     "output_type": "display_data"
    },
    {
     "data": {
      "application/vnd.jupyter.widget-view+json": {
       "model_id": "e71171fca38c442d9004b92aef53eea4",
       "version_major": 2,
       "version_minor": 0
      },
      "text/plain": [
       "interactive(children=(Text(value='example@saverlife.org', description='email'), Output()), _dom_classes=('widg…"
      ]
     },
     "metadata": {},
     "output_type": "display_data"
    }
   ],
   "source": [
    "display(widgets.HTML('''<H4>Select the number of results, enter your email\n",
    "    (optional), and rate your responses below'''))\n",
    "slider = widgets.IntSlider(\n",
    "    description='Responses', max=25, min=1, value=5, continuous_update=False)\n",
    "display(slider)\n",
    "em = widgets.interact(set_email, email='example@saverlife.org')"
   ]
  },
  {
   "cell_type": "code",
   "execution_count": 7,
   "id": "7aab08b4",
   "metadata": {},
   "outputs": [
    {
     "data": {
      "application/vnd.jupyter.widget-view+json": {
       "model_id": "1e61da70083b4dd5aed945e243aff208",
       "version_major": 2,
       "version_minor": 0
      },
      "text/plain": [
       "HBox(children=(VBox(children=(Output(),)),), layout=Layout(width='95%'))"
      ]
     },
     "metadata": {},
     "output_type": "display_data"
    }
   ],
   "source": [
    "iw = widgets.interactive_output(run_predictions, {'text': textbox, 'n': slider})\n",
    "z = widgets.HBox([widgets.VBox([iw])], text_width='300px')\n",
    "z.layout.width = '95%'\n",
    "z"
   ]
  },
  {
   "cell_type": "code",
   "execution_count": 8,
   "id": "4ba5c843",
   "metadata": {},
   "outputs": [
    {
     "data": {
      "application/vnd.jupyter.widget-view+json": {
       "model_id": "8b75476e5272409487206ac4a59f59ff",
       "version_major": 2,
       "version_minor": 0
      },
      "text/plain": [
       "HTML(value=\"<HR><H4>If you didn't find what you were looking for,\\n    try increasing the number of responses …"
      ]
     },
     "metadata": {},
     "output_type": "display_data"
    },
    {
     "data": {
      "application/vnd.jupyter.widget-view+json": {
       "model_id": "25568d93271e4990a4fcb354aa175d41",
       "version_major": 2,
       "version_minor": 0
      },
      "text/plain": [
       "IntSlider(value=5, continuous_update=False, description='Responses', max=25, min=1)"
      ]
     },
     "metadata": {},
     "output_type": "display_data"
    },
    {
     "data": {
      "application/vnd.jupyter.widget-view+json": {
       "model_id": "cc3c53c89ec74bfdb97f6221193b6f7a",
       "version_major": 2,
       "version_minor": 0
      },
      "text/plain": [
       "HBox(children=(VBox(children=(Text(value='How do I save more money?', continuous_update=False, description='Qu…"
      ]
     },
     "metadata": {},
     "output_type": "display_data"
    }
   ],
   "source": [
    "display(widgets.HTML(\"\"\"<HR><H4>If you didn't find what you were looking for,\n",
    "    try increasing the number of responses or rehrasing your question\"\"\"))\n",
    "display(slider)\n",
    "widgets.HBox([widgets.VBox([textbox])])"
   ]
  },
  {
   "cell_type": "code",
   "execution_count": null,
   "id": "e06785a5",
   "metadata": {},
   "outputs": [],
   "source": []
  }
 ],
 "metadata": {
  "environment": {
   "name": "common-cu110.m76",
   "type": "gcloud",
   "uri": "gcr.io/deeplearning-platform-release/base-cu110:m76"
  },
  "kernelspec": {
   "display_name": "Python 3 (ipykernel)",
   "language": "python",
   "name": "python3"
  },
  "language_info": {
   "codemirror_mode": {
    "name": "ipython",
    "version": 3
   },
   "file_extension": ".py",
   "mimetype": "text/x-python",
   "name": "python",
   "nbconvert_exporter": "python",
   "pygments_lexer": "ipython3",
   "version": "3.8.10"
  },
  "vscode": {
   "interpreter": {
    "hash": "31f2aee4e71d21fbe5cf8b01ff0e069b9275f58929596ceb00d14d90e3e16cd6"
   }
  }
 },
 "nbformat": 4,
 "nbformat_minor": 5
}
