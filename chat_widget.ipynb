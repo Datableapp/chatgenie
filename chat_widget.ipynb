{
 "cells": [
  {
   "cell_type": "markdown",
   "id": "c6963785",
   "metadata": {},
   "source": [
    "<img src=\"saverlife.png\" width=\"400\">"
   ]
  },
  {
   "cell_type": "markdown",
   "id": "7e16cc17",
   "metadata": {},
   "source": [
    "# Chat Genie Demo\n",
    "### Write a question and hit enter"
   ]
  },
  {
   "cell_type": "code",
   "execution_count": 3,
   "id": "78252150",
   "metadata": {},
   "outputs": [],
   "source": [
    "import ipywidgets as widgets\n",
    "from fastai.text.all import *\n",
    "import urllib.request"
   ]
  },
  {
   "cell_type": "code",
   "execution_count": 4,
   "id": "23ab086f",
   "metadata": {},
   "outputs": [],
   "source": [
    "def _end_headline(x):\n",
    "    if type(x) != str: return ''\n",
    "    if x[-1] in ['.', '?', '!', '…', ':', '“', '”']: return x + ' '\n",
    "    else: return x + '. '\n",
    "\n",
    "def prep_text(file = 'text-1-15c.csv'):\n",
    "    df = pd.read_csv(file)\n",
    "    df = df[~df.text.isna()].copy()\n",
    "    df = df[['headline', 'segment', 'subheading', 'text',\n",
    "                               'top_tag', 'url', 'text length']].copy()\n",
    "    df['joincol'] = df['subheading']\n",
    "    df.loc[df.joincol=='','joincol'] = df.loc[df.joincol=='','headline']\n",
    "    df.joincol = df.joincol.map(_end_headline).values\n",
    "    df = df[df.headline.map(lambda x: x[:33]) != \"Ask an Expert episode 2 follow-up\"]\n",
    "    return(df)\n",
    "\n",
    "def breakup_text(text, max=90):\n",
    "    if len(text) < max:\n",
    "        print(text)\n",
    "    else:\n",
    "        for i in range(max-1,1,-1):\n",
    "            if text[i] == ' ':\n",
    "                print(text[:i])\n",
    "                break\n",
    "        breakup_text(text[i:].strip())"
   ]
  },
  {
   "cell_type": "code",
   "execution_count": 5,
   "id": "0e750efa",
   "metadata": {},
   "outputs": [],
   "source": [
    "MODEL_URL = \"https://www.dropbox.com/s/tmu82r4pd9h0ek8/chat_model.pkl?dl=1\"\n",
    "\n",
    "urllib.request.urlretrieve(MODEL_URL, \"model.pkl\")\n",
    "\n",
    "learn = load_learner(\"model.pkl\")\n",
    "\n",
    "sdf = pd.read_pickle('segment_df.pkl')"
   ]
  },
  {
   "cell_type": "code",
   "execution_count": 91,
   "id": "05d1129f",
   "metadata": {},
   "outputs": [],
   "source": [
    "class color:\n",
    "   PURPLE = '\\033[95m'\n",
    "   CYAN = '\\033[96m'\n",
    "   DARKCYAN = '\\033[36m'\n",
    "   BLUE = '\\033[94m'\n",
    "   GREEN = '\\033[92m'\n",
    "   YELLOW = '\\033[93m'\n",
    "   RED = '\\033[91m'\n",
    "   BOLD = '\\033[1m'\n",
    "   UNDERLINE = '\\033[4m'\n",
    "   END = '\\033[0m'\n",
    "\n",
    "class preds:\n",
    "    DF = None\n",
    "    QUESTION = None\n",
    "    NUM = None\n",
    "    HEADLINE = None\n",
    "    SUB = None\n",
    "    \n",
    "def predictions(text):\n",
    "    pred = learn.predict(text)\n",
    "    df = pd.DataFrame(pred[2], columns = ['pct'])\n",
    "    df['label_idx'] = df.index\n",
    "    df = df.sort_values('pct', ascending=False).iloc[:50]\n",
    "    url_df = pd.DataFrame(learn.dls.vocab[1])\n",
    "    url_df['label_idx'] = url_df.index\n",
    "    df = df.merge(url_df)\n",
    "    df.columns = ['pct', 'idx', 'joincol']\n",
    "    df = df.merge(sdf)\n",
    "    df['score'] = df['pct'] / (df['text length'] + 50) * 10000\n",
    "    df = df.sort_values('score', ascending=False)\n",
    "    \n",
    "    df.headline = df.headline.map(lambda x: x.replace('“', '\"').replace('”', '\"'))\n",
    "    df.subheading = df.subheading.map(lambda x: x.replace('“', '\"').replace('”', '\"'))\n",
    "    \n",
    "    preds.DF = df\n",
    "    return(df)\n",
    "\n",
    "def chat_response(text, i):\n",
    "    if i == 0:\n",
    "        df = predictions(text)\n",
    "    else:\n",
    "        df = preds.DF\n",
    "    print(color.BOLD + color.UNDERLINE)\n",
    "    preds.HEADLINE = df.iloc[i]['headline']\n",
    "    breakup_text(df.iloc[i]['headline'])\n",
    "    print(color.END + color.BOLD + color.DARKCYAN)\n",
    "    preds.SUB = df.iloc[i]['subheading']\n",
    "    breakup_text(df.iloc[i]['subheading'])\n",
    "    print(color.END)\n",
    "    breakup_text(df.iloc[i]['text'])\n",
    "    print(f\"\\n{color.GREEN}Read the full article on the SaverLife Blog\")\n",
    "    print(df.iloc[i]['url'])\n",
    "    print(color.END)\n",
    "    \n",
    "def chat1(text): chat_response(text, 0)\n",
    "def chat2(text): chat_response(text, 1)\n",
    "def chat3(text): chat_response(text, 2)\n",
    "def chat4(text): chat_response(text, 3)\n",
    "def chat5(text): chat_response(text, 4)"
   ]
  },
  {
   "cell_type": "code",
   "execution_count": 92,
   "id": "f8a9ec69",
   "metadata": {},
   "outputs": [],
   "source": [
    "textbox = widgets.Text(\n",
    "    value='How do I save more money?',\n",
    "    placeholder='Write your question here!',\n",
    "    description='Question:',\n",
    "    disabled=False,\n",
    "    continuous_update=False,\n",
    "    layout=widgets.Layout(width='500px')\n",
    ")\n",
    "\n",
    "slider = widgets.IntSlider(\n",
    "    description='Responses', max=20, min=1, value=3, continuous_update=False)\n",
    "\n",
    "rate1 = widgets.Dropdown(\n",
    "    options=['Did that answer your question?', 'Yes', 'Somewhat', \"Not at all\"],\n",
    "    value='Did that answer your question?',\n",
    "    description='Rating #1', disabled=False)\n",
    "\n",
    "rate2 = widgets.Dropdown(\n",
    "    options=['Did that answer your question?', 'Yes', 'Somewhat', \"Not at all\"],\n",
    "    value='Did that answer your question?',\n",
    "    description='Rating #2', disabled=False)\n",
    "\n",
    "rate3 = widgets.Dropdown(\n",
    "    options=['Did that answer your question?', 'Yes', 'Somewhat', \"Not at all\"],\n",
    "    value='Did that answer your question?',\n",
    "    description='Rating #3', disabled=False)\n",
    "\n",
    "rate4 = widgets.Dropdown(\n",
    "    options=['Did that answer your question?', 'Yes', 'Somewhat', \"Not at all\"],\n",
    "    value='Did that answer your question?',\n",
    "    description='Rating #4', disabled=False)\n",
    "\n",
    "rate5 = widgets.Dropdown(\n",
    "    options=['Did that answer your question?', 'Yes', 'Somewhat', \"Not at all\"],\n",
    "    value='Did that answer your question?',\n",
    "    description='Rating #5', disabled=False)\n",
    "\n",
    "out1 = widgets.interactive_output(chat1, {'text': textbox})\n",
    "out2 = widgets.interactive_output(chat2, {'text': textbox})\n",
    "out3 = widgets.interactive_output(chat3, {'text': textbox})\n",
    "out4 = widgets.interactive_output(chat4, {'text': textbox})\n",
    "out5 = widgets.interactive_output(chat5, {'text': textbox})\n",
    "\n",
    "out_slider = widgets.interactive_output(chat_response, {'text': textbox, 'n': slider})"
   ]
  },
  {
   "cell_type": "code",
   "execution_count": 93,
   "id": "02e0ddb2",
   "metadata": {},
   "outputs": [
    {
     "data": {
      "application/vnd.jupyter.widget-view+json": {
       "model_id": "d91391064d934376b3774cfc38f75f93",
       "version_major": 2,
       "version_minor": 0
      },
      "text/plain": [
       "HBox(children=(VBox(children=(Text(value='How do I save more money?', continuous_update=False, description='Qu…"
      ]
     },
     "metadata": {},
     "output_type": "display_data"
    }
   ],
   "source": [
    "widgets.HBox([widgets.VBox([textbox])])"
   ]
  },
  {
   "cell_type": "markdown",
   "id": "90926ac3",
   "metadata": {},
   "source": [
    "### Top 5 Responses"
   ]
  },
  {
   "cell_type": "code",
   "execution_count": 94,
   "id": "c3ff704a",
   "metadata": {},
   "outputs": [],
   "source": [
    "# widgets.HBox([widgets.VBox([out1, rate1, out2, rate2, out3, rate3, out4, rate4, out5, rate5])])"
   ]
  },
  {
   "cell_type": "code",
   "execution_count": 103,
   "id": "479ab867",
   "metadata": {},
   "outputs": [],
   "source": [
    "import requests\n",
    "\n",
    "# def save_rating(rating, email):\n",
    "    \n",
    "#     headers = {'Content-type': 'application/json'}\n",
    "#     data = '{\\\"email_address\\\":\\\"' + email + '\\\", \\\"set_savings_goal\\\":' \\\n",
    "#             + str(rating) + '}'\n",
    "\n",
    "#     response = requests.post('https://sl2-datascience-api.herokuapp.com/save_goal/',\n",
    "#                              headers=headers, data=data)\n",
    "\n",
    "\n",
    "def save_rating(question, heading, subhead, rating):\n",
    "    headers = {'Content-type': 'application/json'}\n",
    "    data = '{\\\"question\\\":\\\"' + question + \\\n",
    "        '\\\",\\\"heading\\\":\\\"' + heading + \\\n",
    "        '\\\",\\\"subheading\\\":\\\"' + subhead + \\\n",
    "        '\\\",\\\"rating\\\":' + str(rating) + '}'\n",
    "\n",
    "    response = requests.post('https://sl2-datascience-api.herokuapp.com/rate_bot_response/',\n",
    "                             headers=headers, data=data)\n",
    "    \n",
    "def display_rate(rating, question):\n",
    "    if rating != 'Did that answer your question?':\n",
    "        print('Thank you for your rating. It is temporarily stored at')\n",
    "        print('https://sl2-datascience-api.herokuapp.com/#/default/savings_goal_get_savings_goal__email__get')\n",
    "        question = question.replace(' ', '_')\n",
    "        print(f'email: {question}')\n",
    "        dic = {'Yes': 1, 'Somewhat': 2, 'Not at all': 3}\n",
    "        num_rate = dic[rating]\n",
    "        print(f'rating: {num_rate} - {rating}')\n",
    "#         save_rating(num_rate, question)\n",
    "        i = 0\n",
    "        headline = preds.DF.iloc[i]['headline']\n",
    "        sub = preds.DF.iloc[i]['subheading']\n",
    "        print(sub)\n",
    "        save_rating(question, headline, sub, num_rate)\n",
    "\n",
    "saverate = widgets.interactive_output(display_rate, {'rating': rate1, 'question': textbox})"
   ]
  },
  {
   "cell_type": "code",
   "execution_count": 104,
   "id": "efa59ca4",
   "metadata": {},
   "outputs": [
    {
     "data": {
      "application/vnd.jupyter.widget-view+json": {
       "model_id": "363f0846ad724ee2a0aaac1e5a01d06a",
       "version_major": 2,
       "version_minor": 0
      },
      "text/plain": [
       "HBox(children=(VBox(children=(Output(outputs=({'output_type': 'display_data', 'data': {'text/plain': '<IPython…"
      ]
     },
     "metadata": {},
     "output_type": "display_data"
    }
   ],
   "source": [
    "widgets.HBox([widgets.VBox([out1, rate1])])"
   ]
  },
  {
   "cell_type": "code",
   "execution_count": 105,
   "id": "9e7e6a3e",
   "metadata": {},
   "outputs": [
    {
     "data": {
      "application/vnd.jupyter.widget-view+json": {
       "model_id": "b72807c27e4f4f2697832848549a24eb",
       "version_major": 2,
       "version_minor": 0
      },
      "text/plain": [
       "HBox(children=(VBox(children=(Output(),)),))"
      ]
     },
     "metadata": {},
     "output_type": "display_data"
    }
   ],
   "source": [
    "widgets.HBox([widgets.VBox([saverate])])"
   ]
  },
  {
   "cell_type": "code",
   "execution_count": 106,
   "id": "4e718d6d",
   "metadata": {},
   "outputs": [
    {
     "data": {
      "application/vnd.jupyter.widget-view+json": {
       "model_id": "95ed0ccf9d8e41ed8e364fe0d26ea626",
       "version_major": 2,
       "version_minor": 0
      },
      "text/plain": [
       "HBox(children=(VBox(children=(Output(outputs=({'output_type': 'stream', 'text': '\\x1b[1m\\x1b[4m\\nWhat does sav…"
      ]
     },
     "metadata": {},
     "output_type": "display_data"
    }
   ],
   "source": [
    "widgets.HBox([widgets.VBox([out2, rate2, out3, rate3, out4, rate4, out5, rate5])])"
   ]
  },
  {
   "cell_type": "code",
   "execution_count": null,
   "id": "63d2c0bf",
   "metadata": {},
   "outputs": [],
   "source": []
  }
 ],
 "metadata": {
  "environment": {
   "name": "common-cu110.m76",
   "type": "gcloud",
   "uri": "gcr.io/deeplearning-platform-release/base-cu110:m76"
  },
  "kernelspec": {
   "display_name": "Python 3",
   "language": "python",
   "name": "python3"
  },
  "language_info": {
   "codemirror_mode": {
    "name": "ipython",
    "version": 3
   },
   "file_extension": ".py",
   "mimetype": "text/x-python",
   "name": "python",
   "nbconvert_exporter": "python",
   "pygments_lexer": "ipython3",
   "version": "3.7.10"
  }
 },
 "nbformat": 4,
 "nbformat_minor": 5
}
