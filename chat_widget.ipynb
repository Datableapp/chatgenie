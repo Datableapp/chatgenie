{
 "cells": [
  {
   "cell_type": "markdown",
   "id": "2abfa9e1",
   "metadata": {},
   "source": [
    "<img src=\"saverlife.png\" width=\"400\">"
   ]
  },
  {
   "cell_type": "markdown",
   "id": "06318229",
   "metadata": {},
   "source": [
    "# Chat Genie Demo\n",
    "### Write a question and hit enter"
   ]
  },
  {
   "cell_type": "code",
   "execution_count": 1,
   "id": "9d7da463",
   "metadata": {},
   "outputs": [],
   "source": [
    "import ipywidgets as widgets\n",
    "from fastai.text.all import *\n",
    "import urllib.request"
   ]
  },
  {
   "cell_type": "code",
   "execution_count": 2,
   "id": "7c932dcf",
   "metadata": {},
   "outputs": [],
   "source": [
    "def _end_headline(x):\n",
    "    if type(x) != str: return ''\n",
    "    if x[-1] in ['.', '?', '!', '…', ':', '“', '”']: return x + ' '\n",
    "    else: return x + '. '\n",
    "\n",
    "def prep_text(file = 'text-1-15c.csv'):\n",
    "    df = pd.read_csv(file)\n",
    "    df = df[~df.text.isna()].copy()\n",
    "    df = df[['headline', 'segment', 'subheading', 'text',\n",
    "                               'top_tag', 'url', 'text length']].copy()\n",
    "    df['joincol'] = df['subheading']\n",
    "    df.loc[df.joincol=='','joincol'] = df.loc[df.joincol=='','headline']\n",
    "    df.joincol = df.joincol.map(_end_headline).values\n",
    "    df = df[df.headline.map(lambda x: x[:33]) != \"Ask an Expert episode 2 follow-up\"]\n",
    "    return(df)\n",
    "\n",
    "def breakup_text(text, max=90):\n",
    "    if len(text) < max:\n",
    "        print(text)\n",
    "    else:\n",
    "        for i in range(max-1,1,-1):\n",
    "            if text[i] == ' ':\n",
    "                print(text[:i])\n",
    "                break\n",
    "        breakup_text(text[i:].strip())"
   ]
  },
  {
   "cell_type": "code",
   "execution_count": 3,
   "id": "73cd8fe5",
   "metadata": {},
   "outputs": [],
   "source": [
    "MODEL_URL = \"https://www.dropbox.com/s/tmu82r4pd9h0ek8/chat_model.pkl?dl=1\"\n",
    "\n",
    "urllib.request.urlretrieve(MODEL_URL, \"model.pkl\")\n",
    "\n",
    "learn = load_learner(\"model.pkl\")\n",
    "\n",
    "sdf = pd.read_pickle('segment_df.pkl')"
   ]
  },
  {
   "cell_type": "code",
   "execution_count": 121,
   "id": "afc04d95",
   "metadata": {},
   "outputs": [],
   "source": [
    "class color:\n",
    "   PURPLE = '\\033[95m'\n",
    "   CYAN = '\\033[96m'\n",
    "   DARKCYAN = '\\033[36m'\n",
    "   BLUE = '\\033[94m'\n",
    "   GREEN = '\\033[92m'\n",
    "   YELLOW = '\\033[93m'\n",
    "   RED = '\\033[91m'\n",
    "   BOLD = '\\033[1m'\n",
    "   UNDERLINE = '\\033[4m'\n",
    "   END = '\\033[0m'\n",
    "\n",
    "def predictions(text):\n",
    "    pred = learn.predict(text)\n",
    "    df = pd.DataFrame(pred[2], columns = ['pct'])\n",
    "    df['label_idx'] = df.index\n",
    "    df = df.sort_values('pct', ascending=False).iloc[:50]\n",
    "    url_df = pd.DataFrame(learn.dls.vocab[1])\n",
    "    url_df['label_idx'] = url_df.index\n",
    "    df = df.merge(url_df)\n",
    "    df.columns = ['pct', 'idx', 'joincol']\n",
    "    df = df.merge(sdf)\n",
    "    df['score'] = df['pct'] / (df['text length'] + 50) * 10000\n",
    "    df = df.sort_values('score', ascending=False)\n",
    "    return(df)\n",
    "\n",
    "def chat_response(text, i):\n",
    "    df = predictions(text)\n",
    "    print(color.BOLD + color.UNDERLINE)\n",
    "    breakup_text(df.iloc[i]['headline'])\n",
    "    print(color.END + color.BOLD + color.DARKCYAN)\n",
    "    breakup_text(df.iloc[i]['subheading'])\n",
    "    print(color.END)\n",
    "    breakup_text(df.iloc[i]['text'])\n",
    "    print(f\"\\n{color.GREEN}Read the full article on the SaverLife Blog\")\n",
    "    print(df.iloc[i]['url'])\n",
    "    print(color.END)\n",
    "    \n",
    "def chat1(text): chat_response(text, 0)\n",
    "def chat2(text): chat_response(text, 1)\n",
    "def chat3(text): chat_response(text, 2)\n",
    "def chat4(text): chat_response(text, 3)\n",
    "def chat5(text): chat_response(text, 4)"
   ]
  },
  {
   "cell_type": "code",
   "execution_count": 152,
   "id": "de362900",
   "metadata": {},
   "outputs": [],
   "source": [
    "textbox = widgets.Text(\n",
    "    value='How do I save more money?',\n",
    "    placeholder='Write your quetion here!',\n",
    "    description='Question:',\n",
    "    disabled=False,\n",
    "    continuous_update=False,\n",
    "    layout=widgets.Layout(width='500px')\n",
    ")\n",
    "\n",
    "slider = widgets.IntSlider(\n",
    "    description='Responses', max=20, min=1, value=3, continuous_update=False)\n",
    "\n",
    "rate1 = widgets.Dropdown(\n",
    "    options=['Did that answer your question?', 'Yes', 'Somewhat', \"Not at all\"],\n",
    "    value='Did that answer your question?',\n",
    "    description='Rating #1', disabled=False)\n",
    "\n",
    "rate2 = widgets.Dropdown(\n",
    "    options=['Did that answer your question?', 'Yes', 'Somewhat', \"Not at all\"],\n",
    "    value='Did that answer your question?',\n",
    "    description='Rating #2', disabled=False)\n",
    "\n",
    "rate3 = widgets.Dropdown(\n",
    "    options=['Did that answer your question?', 'Yes', 'Somewhat', \"Not at all\"],\n",
    "    value='Did that answer your question?',\n",
    "    description='Rating #3', disabled=False)\n",
    "\n",
    "rate4 = widgets.Dropdown(\n",
    "    options=['Did that answer your question?', 'Yes', 'Somewhat', \"Not at all\"],\n",
    "    value='Did that answer your question?',\n",
    "    description='Rating #4', disabled=False)\n",
    "\n",
    "rate5 = widgets.Dropdown(\n",
    "    options=['Did that answer your question?', 'Yes', 'Somewhat', \"Not at all\"],\n",
    "    value='Did that answer your question?',\n",
    "    description='Rating #5', disabled=False)\n",
    "\n",
    "out1 = widgets.interactive_output(chat1, {'text': textbox})\n",
    "out2 = widgets.interactive_output(chat2, {'text': textbox})\n",
    "out3 = widgets.interactive_output(chat3, {'text': textbox})\n",
    "out4 = widgets.interactive_output(chat4, {'text': textbox})\n",
    "out5 = widgets.interactive_output(chat5, {'text': textbox})\n",
    "\n",
    "out_slider = widgets.interactive_output(chat_response, {'text': textbox, 'n': slider})"
   ]
  },
  {
   "cell_type": "code",
   "execution_count": 153,
   "id": "8ab2561d",
   "metadata": {},
   "outputs": [
    {
     "data": {
      "application/vnd.jupyter.widget-view+json": {
       "model_id": "0d76286d52ce42daaded8c58e4d682c9",
       "version_major": 2,
       "version_minor": 0
      },
      "text/plain": [
       "HBox(children=(VBox(children=(Text(value='How do I save more money?', continuous_update=False, description='Qu…"
      ]
     },
     "metadata": {},
     "output_type": "display_data"
    }
   ],
   "source": [
    "widgets.HBox([widgets.VBox([textbox])])"
   ]
  },
  {
   "cell_type": "markdown",
   "id": "5ecf4e9d",
   "metadata": {},
   "source": [
    "### Top 5 Responses"
   ]
  },
  {
   "cell_type": "code",
   "execution_count": 154,
   "id": "0567c0b7",
   "metadata": {},
   "outputs": [
    {
     "data": {
      "application/vnd.jupyter.widget-view+json": {
       "model_id": "9e57de3bec3a473fbf8941f35c7c6842",
       "version_major": 2,
       "version_minor": 0
      },
      "text/plain": [
       "HBox(children=(VBox(children=(Output(outputs=({'output_type': 'display_data', 'data': {'text/plain': '<IPython…"
      ]
     },
     "metadata": {},
     "output_type": "display_data"
    }
   ],
   "source": [
    "widgets.HBox([widgets.VBox([out1, rate1, out2, rate2, out3, rate3, out4, rate4, out5, rate5])])"
   ]
  },
  {
   "cell_type": "code",
   "execution_count": null,
   "id": "be9e8fcc",
   "metadata": {},
   "outputs": [],
   "source": []
  }
 ],
 "metadata": {
  "environment": {
   "name": "common-cu110.m76",
   "type": "gcloud",
   "uri": "gcr.io/deeplearning-platform-release/base-cu110:m76"
  },
  "kernelspec": {
   "display_name": "Python 3",
   "language": "python",
   "name": "python3"
  },
  "language_info": {
   "codemirror_mode": {
    "name": "ipython",
    "version": 3
   },
   "file_extension": ".py",
   "mimetype": "text/x-python",
   "name": "python",
   "nbconvert_exporter": "python",
   "pygments_lexer": "ipython3",
   "version": "3.7.10"
  }
 },
 "nbformat": 4,
 "nbformat_minor": 5
}
