{
 "cells": [
  {
   "cell_type": "markdown",
   "id": "07b0ea76",
   "metadata": {},
   "source": [
    "<img src=\"saverlife.png\" width=\"400\">"
   ]
  },
  {
   "cell_type": "markdown",
   "id": "6ce513e1",
   "metadata": {},
   "source": [
    "# Chat Genie Demo\n",
    "### Write a question and hit enter"
   ]
  },
  {
   "cell_type": "code",
   "execution_count": 1,
   "id": "2e3d36da",
   "metadata": {},
   "outputs": [],
   "source": [
    "import ipywidgets as widgets\n",
    "from fastai.text.all import *\n",
    "import urllib.request\n",
    "from os.path import exists\n",
    "import requests"
   ]
  },
  {
   "cell_type": "code",
   "execution_count": 2,
   "id": "6dab6287",
   "metadata": {},
   "outputs": [],
   "source": [
    "def _end_headline(x):\n",
    "    if type(x) != str: return ''\n",
    "    if x[-1] in ['.', '?', '!', '…', ':', '“', '”']: return x + ' '\n",
    "    else: return x + '. '\n",
    "\n",
    "def prep_text(file = 'text-1-15c.csv'):\n",
    "    df = pd.read_csv(file)\n",
    "    df = df[~df.text.isna()].copy()\n",
    "    df = df[['headline', 'segment', 'subheading', 'text',\n",
    "                               'top_tag', 'url', 'text length']].copy()\n",
    "    df['joincol'] = df['subheading']\n",
    "    df.loc[df.joincol=='','joincol'] = df.loc[df.joincol=='','headline']\n",
    "    df.joincol = df.joincol.map(_end_headline).values\n",
    "    df = df[df.headline.map(lambda x: x[:33]) != \"Ask an Expert episode 2 follow-up\"]\n",
    "    return(df)\n",
    "\n",
    "def breakup_text(text, max=90):\n",
    "    if len(text) < max:\n",
    "        print(text)\n",
    "    else:\n",
    "        for i in range(max-1,1,-1):\n",
    "            if text[i] == ' ':\n",
    "                print(text[:i])\n",
    "                break\n",
    "        breakup_text(text[i:].strip())"
   ]
  },
  {
   "cell_type": "code",
   "execution_count": 3,
   "id": "db70b479",
   "metadata": {},
   "outputs": [],
   "source": [
    "MODEL_URL = \"https://www.dropbox.com/s/tmu82r4pd9h0ek8/chat_model.pkl?dl=1\"\n",
    "\n",
    "if not exists('model.pkl'):\n",
    "    urllib.request.urlretrieve(MODEL_URL, \"model.pkl\")\n",
    "\n",
    "learn = load_learner(\"model.pkl\")\n",
    "\n",
    "sdf = pd.read_pickle('segment_df.pkl')"
   ]
  },
  {
   "cell_type": "code",
   "execution_count": 68,
   "id": "66289def",
   "metadata": {},
   "outputs": [],
   "source": [
    "class color:\n",
    "   PURPLE = '\\033[95m'\n",
    "   CYAN = '\\033[96m'\n",
    "   DARKCYAN = '\\033[36m'\n",
    "   BLUE = '\\033[94m'\n",
    "   GREEN = '\\033[92m'\n",
    "   YELLOW = '\\033[93m'\n",
    "   RED = '\\033[91m'\n",
    "   BOLD = '\\033[1m'\n",
    "   UNDERLINE = '\\033[4m'\n",
    "   END = '\\033[0m'\n",
    "\n",
    "class preds:\n",
    "    DF = None\n",
    "    QUESTION = None\n",
    "    NUM = None\n",
    "    HEADLINE = None\n",
    "    SUB = None\n",
    "    \n",
    "def predictions(text):\n",
    "    pred = learn.predict(text)\n",
    "    df = pd.DataFrame(pred[2], columns = ['pct'])\n",
    "    df['label_idx'] = df.index\n",
    "    df = df.sort_values('pct', ascending=False).iloc[:50]\n",
    "    url_df = pd.DataFrame(learn.dls.vocab[1])\n",
    "    url_df['label_idx'] = url_df.index\n",
    "    df = df.merge(url_df)\n",
    "    df.columns = ['pct', 'idx', 'joincol']\n",
    "    df = df.merge(sdf)\n",
    "    df['score'] = df['pct'] / (df['text length'] + 50) * 10000\n",
    "    df = df.sort_values('score', ascending=False)\n",
    "    \n",
    "    df.headline = df.headline.map(lambda x: x.replace('“', '').replace('”', '').replace('–', '-'))\n",
    "    df.subheading = df.subheading.map(lambda x: x.replace('“', '').replace('”', '').replace('”', '').replace('–', '-'))\n",
    "#     df.headline = df.headline.map(lambda x: x.replace('“', '\"').replace('”', '\"'))\n",
    "#     df.subheading = df.subheading.map(lambda x: x.replace('“', '\"').replace('”', '\"'))\n",
    "    preds.DF = df\n",
    "    return(df)\n",
    "\n",
    "def chat_response(text, i):\n",
    "    if i == 0:\n",
    "        df = predictions(text)\n",
    "    else:\n",
    "        df = preds.DF\n",
    "    print(color.BOLD + color.UNDERLINE)\n",
    "    preds.HEADLINE = df.iloc[i]['headline']\n",
    "    breakup_text(df.iloc[i]['headline'])\n",
    "    print(color.END + color.BOLD + color.DARKCYAN)\n",
    "    preds.SUB = df.iloc[i]['subheading']\n",
    "    breakup_text(df.iloc[i]['subheading'])\n",
    "    print(color.END)\n",
    "    breakup_text(df.iloc[i]['text'])\n",
    "    print(f\"\\n{color.GREEN}Read the full article on the SaverLife Blog\")\n",
    "    print(df.iloc[i]['url'])\n",
    "    print(color.END)\n",
    "    rate1.value = 'Did that answer your question?'\n",
    "    rate2.value = 'Did that answer your question?'\n",
    "    rate3.value = 'Did that answer your question?'\n",
    "    \n",
    "def chat1(text): chat_response(text, 0)\n",
    "def chat2(text): chat_response(text, 1)\n",
    "def chat3(text): chat_response(text, 2)\n",
    "def chat4(text): chat_response(text, 3)\n",
    "def chat5(text): chat_response(text, 4)\n",
    "def chat6(text): chat_response(text, 5)\n",
    "def chat7(text): chat_response(text, 6)\n",
    "def chat8(text): chat_response(text, 7)\n",
    "def chat9(text): chat_response(text, 8)\n",
    "def chat10(text): chat_response(text, 9)\n",
    "    \n",
    "def save_rating(question, rating, i):\n",
    "    if rating != 'Did that answer your question?':\n",
    "        dic = {'Yes': 1, 'Somewhat': 2, 'Not at all': 3}\n",
    "        rating = dic[rating]\n",
    "        heading = preds.DF.iloc[i]['headline']\n",
    "        subhead = preds.DF.iloc[i]['subheading']\n",
    "        print(f'Q: {question} R: {rating}')\n",
    "        print(heading)\n",
    "        print(subhead)\n",
    "        headers = {'Content-type': 'application/json'}\n",
    "        data = '{\\\"question\\\":\\\"' + question + \\\n",
    "            '\\\",\\\"heading\\\":\\\"' + heading + \\\n",
    "            '\\\",\\\"subheading\\\":\\\"' + subhead + \\\n",
    "            '\\\",\\\"rating\\\":' + str(rating) + '}'\n",
    "        response = requests.post(\n",
    "            'https://sl2-datascience-api.herokuapp.com/rate_bot_response/',\n",
    "            headers=headers, data=data)\n",
    "        print(response.json())\n",
    "        response.close()\n",
    "    \n",
    "def save_rating_1(rating, question): save_rating(question, rating, 0)\n",
    "def save_rating_2(rating, question): save_rating(question, rating, 1)\n",
    "def save_rating_3(rating, question): save_rating(question, rating, 2)\n",
    "def save_rating_4(rating, question): save_rating(question, rating, 3)\n",
    "def save_rating_5(rating, question): save_rating(question, rating, 4)\n",
    "def save_rating_6(rating, question): save_rating(question, rating, 5)\n",
    "def save_rating_7(rating, question): save_rating(question, rating, 6)\n",
    "def save_rating_8(rating, question): save_rating(question, rating, 7)\n",
    "def save_rating_9(rating, question): save_rating(question, rating, 8)\n",
    "def save_rating_10(rating, question): save_rating(question, rating, 9)"
   ]
  },
  {
   "cell_type": "code",
   "execution_count": 69,
   "id": "68e3145a",
   "metadata": {},
   "outputs": [],
   "source": [
    "textbox = widgets.Text(\n",
    "    value='How do I save more money?',\n",
    "    placeholder='Write your question here!',\n",
    "    description='Question:',\n",
    "    disabled=False,\n",
    "    continuous_update=False,\n",
    "    layout=widgets.Layout(width='500px')\n",
    ")\n",
    "\n",
    "# slider = widgets.IntSlider(\n",
    "#     description='Responses', max=20, min=1, value=3, continuous_update=False)\n",
    "\n",
    "rate1 = widgets.Dropdown(\n",
    "    options=['Did that answer your question?', 'Yes', 'Somewhat', \"Not at all\"],\n",
    "    value='Did that answer your question?',\n",
    "    description='Rating #1', disabled=False)\n",
    "\n",
    "rate2 = widgets.Dropdown(\n",
    "    options=['Did that answer your question?', 'Yes', 'Somewhat', \"Not at all\"],\n",
    "    value='Did that answer your question?',\n",
    "    description='Rating #2', disabled=False)\n",
    "\n",
    "rate3 = widgets.Dropdown(\n",
    "    options=['Did that answer your question?', 'Yes', 'Somewhat', \"Not at all\"],\n",
    "    value='Did that answer your question?',\n",
    "    description='Rating #3', disabled=False)\n",
    "\n",
    "rate4 = widgets.Dropdown(\n",
    "    options=['Did that answer your question?', 'Yes', 'Somewhat', \"Not at all\"],\n",
    "    value='Did that answer your question?',\n",
    "    description='Rating #4', disabled=False)\n",
    "\n",
    "rate5 = widgets.Dropdown(\n",
    "    options=['Did that answer your question?', 'Yes', 'Somewhat', \"Not at all\"],\n",
    "    value='Did that answer your question?',\n",
    "    description='Rating #5', disabled=False)\n",
    "\n",
    "rate6 = widgets.Dropdown(\n",
    "    options=['Did that answer your question?', 'Yes', 'Somewhat', \"Not at all\"],\n",
    "    value='Did that answer your question?',\n",
    "    description='Rating #6', disabled=False)\n",
    "\n",
    "rate7 = widgets.Dropdown(\n",
    "    options=['Did that answer your question?', 'Yes', 'Somewhat', \"Not at all\"],\n",
    "    value='Did that answer your question?',\n",
    "    description='Rating #7', disabled=False)\n",
    "\n",
    "rate8 = widgets.Dropdown(\n",
    "    options=['Did that answer your question?', 'Yes', 'Somewhat', \"Not at all\"],\n",
    "    value='Did that answer your question?',\n",
    "    description='Rating #8', disabled=False)\n",
    "\n",
    "rate9 = widgets.Dropdown(\n",
    "    options=['Did that answer your question?', 'Yes', 'Somewhat', \"Not at all\"],\n",
    "    value='Did that answer your question?',\n",
    "    description='Rating #9', disabled=False)\n",
    "\n",
    "rate10 = widgets.Dropdown(\n",
    "    options=['Did that answer your question?', 'Yes', 'Somewhat', \"Not at all\"],\n",
    "    value='Did that answer your question?',\n",
    "    description='Rating #10', disabled=False)\n",
    "\n",
    "out1 = widgets.interactive_output(chat1, {'text': textbox})\n",
    "out2 = widgets.interactive_output(chat2, {'text': textbox})\n",
    "out3 = widgets.interactive_output(chat3, {'text': textbox})\n",
    "out4 = widgets.interactive_output(chat4, {'text': textbox})\n",
    "out5 = widgets.interactive_output(chat5, {'text': textbox})\n",
    "out6 = widgets.interactive_output(chat6, {'text': textbox})\n",
    "out7 = widgets.interactive_output(chat7, {'text': textbox})\n",
    "out8 = widgets.interactive_output(chat8, {'text': textbox})\n",
    "out9 = widgets.interactive_output(chat9, {'text': textbox})\n",
    "out10 = widgets.interactive_output(chat10, {'text': textbox})\n",
    "\n",
    "# out_slider = widgets.interactive_output(chat_response, {'text': textbox, 'n': slider})\n",
    "\n",
    "save1 = widgets.interactive_output(save_rating_1, {'rating': rate1, 'question': textbox})\n",
    "save2 = widgets.interactive_output(save_rating_2, {'rating': rate2, 'question': textbox})\n",
    "save3 = widgets.interactive_output(save_rating_3, {'rating': rate3, 'question': textbox})\n",
    "save4 = widgets.interactive_output(save_rating_4, {'rating': rate4, 'question': textbox})\n",
    "save5 = widgets.interactive_output(save_rating_5, {'rating': rate5, 'question': textbox})\n",
    "save6 = widgets.interactive_output(save_rating_1, {'rating': rate6, 'question': textbox})\n",
    "save7 = widgets.interactive_output(save_rating_2, {'rating': rate7, 'question': textbox})\n",
    "save8 = widgets.interactive_output(save_rating_3, {'rating': rate8, 'question': textbox})\n",
    "save9 = widgets.interactive_output(save_rating_4, {'rating': rate9, 'question': textbox})\n",
    "save10 = widgets.interactive_output(save_rating_5, {'rating': rate10, 'question': textbox})"
   ]
  },
  {
   "cell_type": "code",
   "execution_count": 62,
   "id": "e3760dc8",
   "metadata": {},
   "outputs": [
    {
     "data": {
      "application/vnd.jupyter.widget-view+json": {
       "model_id": "0293ae5dfbc34215a19758f5915da9bd",
       "version_major": 2,
       "version_minor": 0
      },
      "text/plain": [
       "HBox(children=(VBox(children=(Text(value='How do I save more money?', continuous_update=False, description='Qu…"
      ]
     },
     "metadata": {},
     "output_type": "display_data"
    }
   ],
   "source": [
    "widgets.HBox([widgets.VBox([textbox])])"
   ]
  },
  {
   "cell_type": "markdown",
   "id": "918f8b8d",
   "metadata": {},
   "source": [
    "### Top 10 Responses"
   ]
  },
  {
   "cell_type": "code",
   "execution_count": 71,
   "id": "b4f214a4",
   "metadata": {},
   "outputs": [
    {
     "data": {
      "application/vnd.jupyter.widget-view+json": {
       "model_id": "b4996b0111b04f9388d6bc3d47af2da4",
       "version_major": 2,
       "version_minor": 0
      },
      "text/plain": [
       "HBox(children=(VBox(children=(Output(outputs=({'output_type': 'display_data', 'data': {'text/plain': '<IPython…"
      ]
     },
     "metadata": {},
     "output_type": "display_data"
    }
   ],
   "source": [
    "widgets.HBox([widgets.VBox([out1, rate1, save1, out2, rate2, save2, out3, rate3, save3])])"
   ]
  },
  {
   "cell_type": "code",
   "execution_count": null,
   "id": "de2c4db5",
   "metadata": {},
   "outputs": [],
   "source": [
    "widgets.HBox([widgets.VBox([out4, rate4, save4, out5, rate5, save5, out6, rate6, save6])])"
   ]
  },
  {
   "cell_type": "code",
   "execution_count": 70,
   "id": "7562d865",
   "metadata": {},
   "outputs": [
    {
     "data": {
      "application/vnd.jupyter.widget-view+json": {
       "model_id": "1e3c6a2a4e444d1d8edf30374f55d2f0",
       "version_major": 2,
       "version_minor": 0
      },
      "text/plain": [
       "HBox(children=(VBox(children=(Output(outputs=({'output_type': 'stream', 'text': '\\x1b[1m\\x1b[4m\\nTax refunds a…"
      ]
     },
     "metadata": {},
     "output_type": "display_data"
    }
   ],
   "source": [
    "widgets.HBox([widgets.VBox([out7, rate7, save7, out8, rate8, save8, out9, rate9, save9, out10, rate10, save10])])"
   ]
  }
 ],
 "metadata": {
  "environment": {
   "name": "common-cu110.m76",
   "type": "gcloud",
   "uri": "gcr.io/deeplearning-platform-release/base-cu110:m76"
  },
  "kernelspec": {
   "display_name": "Python 3",
   "language": "python",
   "name": "python3"
  },
  "language_info": {
   "codemirror_mode": {
    "name": "ipython",
    "version": 3
   },
   "file_extension": ".py",
   "mimetype": "text/x-python",
   "name": "python",
   "nbconvert_exporter": "python",
   "pygments_lexer": "ipython3",
   "version": "3.7.10"
  }
 },
 "nbformat": 4,
 "nbformat_minor": 5
}
