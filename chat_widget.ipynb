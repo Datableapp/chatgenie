{
 "cells": [
  {
   "cell_type": "markdown",
   "id": "4295b57b",
   "metadata": {},
   "source": [
    "# Saverlife Chatbot Demo\n",
    "### Write a question and hit enter"
   ]
  },
  {
   "cell_type": "code",
   "execution_count": 1,
   "id": "9d7da463",
   "metadata": {},
   "outputs": [],
   "source": [
    "import ipywidgets as widgets\n",
    "from fastai.text.all import *\n",
    "import urllib.request"
   ]
  },
  {
   "cell_type": "code",
   "execution_count": 3,
   "id": "7c932dcf",
   "metadata": {},
   "outputs": [],
   "source": [
    "def _end_headline(x):\n",
    "    if type(x) != str: return ''\n",
    "    if x[-1] in ['.', '?', '!', '…', ':', '“', '”']: return x + ' '\n",
    "    else: return x + '. '\n",
    "\n",
    "def prep_text(file = 'text-1-15c.csv'):\n",
    "    df = pd.read_csv(file)\n",
    "    df = df[~df.text.isna()].copy()\n",
    "    df = df[['headline', 'segment', 'subheading', 'text',\n",
    "                               'top_tag', 'url', 'text length']].copy()\n",
    "    df['joincol'] = df['subheading']\n",
    "    df.loc[df.joincol=='','joincol'] = df.loc[df.joincol=='','headline']\n",
    "    df.joincol = df.joincol.map(_end_headline).values\n",
    "    df = df[df.headline.map(lambda x: x[:33]) != \"Ask an Expert episode 2 follow-up\"]\n",
    "    return(df)\n",
    "\n",
    "def breakup_text(text, max=90):\n",
    "    if len(text) < max:\n",
    "        print(text)\n",
    "    else:\n",
    "        for i in range(max-1,1,-1):\n",
    "            if text[i] == ' ':\n",
    "                print(text[:i])\n",
    "                break\n",
    "        breakup_text(text[i:].strip())"
   ]
  },
  {
   "cell_type": "code",
   "execution_count": 5,
   "id": "73cd8fe5",
   "metadata": {},
   "outputs": [],
   "source": [
    "MODEL_URL = \"https://www.dropbox.com/s/tmu82r4pd9h0ek8/chat_model.pkl?dl=1\"\n",
    "\n",
    "urllib.request.urlretrieve(MODEL_URL, \"model.pkl\")\n",
    "\n",
    "learn = load_learner(\"model.pkl\")\n",
    "\n",
    "sdf = pd.read_pickle('segment_df.pkl')"
   ]
  },
  {
   "cell_type": "code",
   "execution_count": 6,
   "id": "afc04d95",
   "metadata": {},
   "outputs": [],
   "source": [
    "class color:\n",
    "   PURPLE = '\\033[95m'\n",
    "   CYAN = '\\033[96m'\n",
    "   DARKCYAN = '\\033[36m'\n",
    "   BLUE = '\\033[94m'\n",
    "   GREEN = '\\033[92m'\n",
    "   YELLOW = '\\033[93m'\n",
    "   RED = '\\033[91m'\n",
    "   BOLD = '\\033[1m'\n",
    "   UNDERLINE = '\\033[4m'\n",
    "   END = '\\033[0m'\n",
    "\n",
    "def chat_response(text, n):\n",
    "    pred = learn.predict(text)\n",
    "    df = pd.DataFrame(pred[2], columns = ['pct'])\n",
    "    df['label_idx'] = df.index\n",
    "    df = df.sort_values('pct', ascending=False).iloc[:50]\n",
    "    url_df = pd.DataFrame(learn.dls.vocab[1])\n",
    "    url_df['label_idx'] = url_df.index\n",
    "    df = df.merge(url_df)\n",
    "    df.columns = ['pct', 'idx', 'joincol']\n",
    "    df = df.merge(sdf)\n",
    "    df['score'] = df['pct'] / (df['text length'] + 50) * 10000\n",
    "    df = df.sort_values('score', ascending=False)\n",
    "    print(f'{color.RED}Here are our top {n} results:{color.END}')\n",
    "    for i in range(0,n):\n",
    "        print(color.BOLD + color.UNDERLINE)\n",
    "        breakup_text(df.iloc[i]['headline'])\n",
    "        print(color.END + color.BOLD + color.DARKCYAN)\n",
    "        breakup_text(df.iloc[i]['subheading'])\n",
    "        print(color.END)\n",
    "        breakup_text(df.iloc[i]['text'])\n",
    "        print(f\"\\n{color.GREEN}Read the full article on the SaverLife Blog\")\n",
    "        print(df.iloc[i]['url'])\n",
    "        print(color.END)"
   ]
  },
  {
   "cell_type": "code",
   "execution_count": 13,
   "id": "de362900",
   "metadata": {},
   "outputs": [
    {
     "data": {
      "text/html": [],
      "text/plain": [
       "<IPython.core.display.HTML object>"
      ]
     },
     "metadata": {},
     "output_type": "display_data"
    },
    {
     "name": "stdout",
     "output_type": "stream",
     "text": [
      "\u001b[91mHere are our top 3 results:\u001b[0m\n",
      "\u001b[1m\u001b[4m\n",
      "“Pay Yourself First” – Your Savings Mantra\n",
      "\u001b[0m\u001b[1m\u001b[36m\n",
      "Focus on You. Pay Yourself First.\n",
      "\u001b[0m\n",
      "Have you ever thought, “I’ll pay all of my bills and save what’s left”? Well, how much\n",
      "was left? When we wait to save until the end of the month, we usually learn that we have\n",
      "more month than money and there is nothing left. We challenge you to commit to paying\n",
      "yourself first. “Pay yourself first.” We hear it all the time, but what does it really\n",
      "mean? Most of us have thought about saving more or saving more regularly, but how many of\n",
      "us really save before paying our bills?\n",
      "\n",
      "\u001b[92mRead the full article on the SaverLife Blog\n",
      "https://www.saverlife.org/budgeting/pay-first-savings-mantra/\n",
      "\u001b[0m\n",
      "\u001b[1m\u001b[4m\n",
      "What does saving mean to you?\n",
      "\u001b[0m\u001b[1m\u001b[36m\n",
      "Saving for Soon\n",
      "\u001b[0m\n",
      "Earlier this year, we ran a campaign called Savers Win, where SaverLife members pledged\n",
      "to save their tax refunds and won prizes. If you participated in Savers Win, you may have\n",
      "answered a survey from us about whether you actually did save your refund. When we looked\n",
      "at at your answers, we noticed that people were describing the same behavior in different\n",
      "ways. For example, one Saver told us that she saved her tax refund to pay for an updated\n",
      "glasses prescription. Another Saver told us that she ended up not being able to save her\n",
      "refund – because she bought new glasses! If you’re trying to start saving, how do you\n",
      "define saving? How do you know whether you’ve been successful at saving this month – your\n",
      "savings balance or the behavior of saving regularly?\n",
      "\n",
      "\u001b[92mRead the full article on the SaverLife Blog\n",
      "https://www.saverlife.org/money-101/what-does-saving-mean-to-you\n",
      "\u001b[0m\n",
      "\u001b[1m\u001b[4m\n",
      "SaverLife’s Top 5 Tips for Saving Money\n",
      "\u001b[0m\u001b[1m\u001b[36m\n",
      "5. Relying on Support Networks and Savings\n",
      "\u001b[0m\n",
      "“In a low period of income, we count on my girls or borrow from my parents. In a high\n",
      "period, we set aside money as savings.” Family or community support is often the best way\n",
      "to handle a short-term cash flow problem. And it’s wise to set aside extra money in\n",
      "savings when you have a financial windfall. Don’t worry about the fact that you have to\n",
      "use it. That’s exactly the reason to set it aside! Which Saver tips inspire you to save,\n",
      "track, or plan more? Tell us: What do YOU do to make the most of your money?\n",
      "\n",
      "\u001b[92mRead the full article on the SaverLife Blog\n",
      "https://www.saverlife.org/money-101/saverlifes-top-5-tips-saving-money\n",
      "\u001b[0m\n"
     ]
    },
    {
     "data": {
      "application/vnd.jupyter.widget-view+json": {
       "model_id": "c9eab0720c0e41e4b3bf7ed0b8662b96",
       "version_major": 2,
       "version_minor": 0
      },
      "text/plain": [
       "HBox(children=(VBox(children=(Text(value='How do I save more?', continuous_update=False, description='Question…"
      ]
     },
     "metadata": {},
     "output_type": "display_data"
    }
   ],
   "source": [
    "textbox = widgets.Text(\n",
    "    value='How do I save more?',\n",
    "    placeholder='Write your quetion here!',\n",
    "    description='Question:',\n",
    "    disabled=False,\n",
    "    continuous_update=False\n",
    ")\n",
    "\n",
    "slider = widgets.IntSlider(\n",
    "    description='Responses', max=20, min=1, value=3, continuous_update=False)\n",
    "\n",
    "\n",
    "out = widgets.interactive_output(chat_response, {'text': textbox, 'n': slider})\n",
    "\n",
    "widgets.HBox([widgets.VBox([textbox, slider])])"
   ]
  },
  {
   "cell_type": "code",
   "execution_count": 14,
   "id": "32cf272a",
   "metadata": {},
   "outputs": [],
   "source": [
    "widget = widgets.HTML(value= '<style>p{word-wrap: break-word}</style> <p>'+ '[variable containing long text goes here]' +' </p>')"
   ]
  },
  {
   "cell_type": "code",
   "execution_count": 15,
   "id": "6327d007",
   "metadata": {},
   "outputs": [
    {
     "data": {
      "application/vnd.jupyter.widget-view+json": {
       "model_id": "ae5b66b3fb8d4a23a13b7e29382167aa",
       "version_major": 2,
       "version_minor": 0
      },
      "text/plain": [
       "HBox(children=(Output(),))"
      ]
     },
     "metadata": {},
     "output_type": "display_data"
    }
   ],
   "source": [
    "widgets.HBox([out])"
   ]
  }
 ],
 "metadata": {
  "environment": {
   "name": "common-cu110.m76",
   "type": "gcloud",
   "uri": "gcr.io/deeplearning-platform-release/base-cu110:m76"
  },
  "kernelspec": {
   "display_name": "fastai",
   "language": "python",
   "name": "fastai"
  },
  "language_info": {
   "codemirror_mode": {
    "name": "ipython",
    "version": 3
   },
   "file_extension": ".py",
   "mimetype": "text/x-python",
   "name": "python",
   "nbconvert_exporter": "python",
   "pygments_lexer": "ipython3",
   "version": "3.8.10"
  }
 },
 "nbformat": 4,
 "nbformat_minor": 5
}
