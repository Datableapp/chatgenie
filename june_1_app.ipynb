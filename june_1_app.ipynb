{
 "cells": [
  {
   "cell_type": "markdown",
   "id": "7c14dde9",
   "metadata": {},
   "source": [
    "<img src=\"saverlife.png\" width=\"400\">"
   ]
  },
  {
   "cell_type": "code",
   "execution_count": 1,
   "id": "cc42211b",
   "metadata": {},
   "outputs": [],
   "source": [
    "import ipywidgets as widgets\n",
    "from fastai.text.all import *\n",
    "import urllib.request\n",
    "from os.path import exists\n",
    "import requests"
   ]
  },
  {
   "cell_type": "code",
   "execution_count": 2,
   "id": "03b6d9e4",
   "metadata": {},
   "outputs": [],
   "source": [
    "MODEL_URL = \"https://www.dropbox.com/s/urtt6ntd7yluum1/seg_learner_may2.pkl?dl=1\"\n",
    "if not exists('seg_learner_may2.pkl'):\n",
    "    urllib.request.urlretrieve(MODEL_URL, \"seg_learner_may2.pkl\")\n",
    "\n",
    "learn = load_learner(\"seg_learner_may2.pkl\")\n",
    "sdf = pd.read_pickle('segment_df_may2.pkl')"
   ]
  },
  {
   "cell_type": "code",
   "execution_count": 3,
   "id": "161eac4b",
   "metadata": {},
   "outputs": [],
   "source": [
    "textbox = widgets.Text(\n",
    "    value='How do I save more money?',\n",
    "    placeholder='Write your question here!',\n",
    "    description='Question:',\n",
    "    disabled=False,\n",
    "    continuous_update=False,\n",
    "    layout=widgets.Layout(width='500px')\n",
    ")"
   ]
  },
  {
   "cell_type": "code",
   "execution_count": 71,
   "id": "894cc292",
   "metadata": {},
   "outputs": [],
   "source": [
    "class preds:\n",
    "    question = None\n",
    "    DF = None\n",
    "    email = ''\n",
    "    num_results = 13\n",
    "    results = []\n",
    "    options = ['Did that answer your question?', 'Yes', 'Somewhat', \"Not at all\"]\n",
    "\n",
    "\n",
    "    \n",
    "def get_predictions(text):\n",
    "    pred = learn.predict(text)\n",
    "    df = pd.DataFrame(pred[2], columns = ['pct'])\n",
    "    df['label_idx'] = df.index\n",
    "    df = df.sort_values('pct', ascending=False).iloc[:50]\n",
    "    url_df = pd.DataFrame(learn.dls.vocab[1])\n",
    "    url_df['label_idx'] = url_df.index\n",
    "    df = df.merge(url_df)\n",
    "    df.columns = ['pct', 'idx', 'url_segment']\n",
    "    df = df.merge(sdf)\n",
    "    df['score'] = df['pct'] / (df['text length'] + 40) * 10000\n",
    "    rows = (df.top_tag == 'Stories') | (df.top_tag == 'Saver Stories')\n",
    "    df.loc[rows, 'score'] = df.loc[rows, 'score'] / 8\n",
    "    df = df.sort_values('score', ascending=False)\n",
    "    preds.DF = df\n",
    "    preds.question = text\n",
    "\n",
    "    \n",
    "def store_rating(Rating, result):\n",
    "    if Rating != 'Did that answer your question?':\n",
    "        question = preds.question.replace(\"'\", \"''\")\n",
    "        dic = {'Yes': 1, 'Somewhat': 2, 'Not at all': 3}\n",
    "#         rating = dic[Rating]\n",
    "        url = preds.DF.iloc[result]['url']\n",
    "        segment = int(preds.DF.iloc[result]['segment'])\n",
    "        headers = {'Content-type': 'application/json'}\n",
    "        data = '{\\\"question\\\":\\\"' + question + \\\n",
    "            '\\\",\\\"url\\\":\\\"' + url + \\\n",
    "            '\\\",\\\"segment\\\":\\\"' + str(segment) + \\\n",
    "            '\\\",\\\"rating\\\":\\\"' + Rating + \\\n",
    "            '\\\",\\\"result\\\":\\\"' + str(result+1) + '\"}'\n",
    "        if preds.email:\n",
    "            data = data[:-1] + ',\\\"email\\\":\\\"' + preds.email + '\"}'\n",
    "#         print(data)\n",
    "        response = requests.post(\n",
    "            'https://sl2-datascience-api.herokuapp.com/rate_bot_response/',\n",
    "            headers=headers, data=data)\n",
    "        if response.json():\n",
    "            print(f'\\033[91m There was an error storing your rating. Did you use \"quotes\"?')\n",
    "            print(response.json())\n",
    "        else: print(f'\\033[36m Thank You for rating result #{result+1}!')\n",
    "        response.close()\n",
    "    else: print('')\n",
    "        \n",
    "    \n",
    "def setup_text():\n",
    "    preds.results = []\n",
    "    for n in range(preds.num_results):\n",
    "        preds.results += [widgets.HTML(value=f\"\"\"\n",
    "            <hr><b><h2 text style =\"line-height:1.5;\"><center>{preds.DF.headline[n]}</center></h2>\n",
    "            <h3 text style=\"color:GREEN; line-height:1.5;\">{preds.DF.subheading[n]}</b></h3>\n",
    "            <p text style =\"line-height:1.5;\">{preds.DF.text[n]}</p>\n",
    "            <text style=\"color:BLUE;\"><a href=\"{preds.DF.url[n]}\" target=\"_blank\">\n",
    "            Read the article on the Saverlife blog</a>\"\"\")]\n",
    "    \n",
    "    \n",
    "def display_text():\n",
    "    display(widgets.HTML(f'''<h4 text style =\"line-height:1.5;\"> Top {preds.num_results} Results for\n",
    "        \"{preds.question}\" </h4> <p text style =\"line-height:1.5;\">Please rate your results\n",
    "        and enter your email (optional) below'''))\n",
    "    widgets.interact(set_email, email='example@saverlife.org')\n",
    "    for n in range(preds.num_results):\n",
    "        display(preds.results[n])\n",
    "        widgets.interact(store_rating, Rating=preds.options,\n",
    "                         result = widgets.fixed(n));\n",
    " \n",
    "\n",
    "def run_predictions(text, n):\n",
    "    preds.num_results = n\n",
    "    get_predictions(text)\n",
    "    setup_text()\n",
    "    display_text()\n",
    "    \n",
    "def set_email(email):\n",
    "    if email != 'example@saverlife.org': preds.email = email"
   ]
  },
  {
   "cell_type": "code",
   "execution_count": 72,
   "id": "5ccf5b7c",
   "metadata": {},
   "outputs": [
    {
     "data": {
      "application/vnd.jupyter.widget-view+json": {
       "model_id": "2f9517dfad2e446485a0aa61d2ea7d62",
       "version_major": 2,
       "version_minor": 0
      },
      "text/plain": [
       "HTML(value='<H1><Center>Chat Genie Demo</h1><H2>Write a question and hit enter')"
      ]
     },
     "metadata": {},
     "output_type": "display_data"
    }
   ],
   "source": [
    "widgets.HTML('<H1><Center>Chat Genie Demo</h1><H2>Write a question and hit enter')"
   ]
  },
  {
   "cell_type": "code",
   "execution_count": 68,
   "id": "21cccf02",
   "metadata": {},
   "outputs": [
    {
     "data": {
      "application/vnd.jupyter.widget-view+json": {
       "model_id": "58f57b545e854bd98b9026b9cb540ea4",
       "version_major": 2,
       "version_minor": 0
      },
      "text/plain": [
       "HBox(children=(VBox(children=(Text(value='How do I save more money?', continuous_update=False, description='Qu…"
      ]
     },
     "metadata": {},
     "output_type": "display_data"
    }
   ],
   "source": [
    "widgets.HBox([widgets.VBox([textbox])])"
   ]
  },
  {
   "cell_type": "code",
   "execution_count": 69,
   "id": "bea14cde",
   "metadata": {},
   "outputs": [
    {
     "data": {
      "application/vnd.jupyter.widget-view+json": {
       "model_id": "bf91b3ee3e07424fa3e7cf59c7f10b36",
       "version_major": 2,
       "version_minor": 0
      },
      "text/plain": [
       "IntSlider(value=5, continuous_update=False, description='Responses', max=25, min=1)"
      ]
     },
     "metadata": {},
     "output_type": "display_data"
    }
   ],
   "source": [
    "# def f(Results): preds.num_results=Results\n",
    "# slide = widgets.interact(f, Results=(1,20))\n",
    "slider = widgets.IntSlider(\n",
    "    description='Responses', max=25, min=1, value=5, continuous_update=False)\n",
    "display(slider)"
   ]
  },
  {
   "cell_type": "code",
   "execution_count": 70,
   "id": "7aab08b4",
   "metadata": {},
   "outputs": [
    {
     "data": {
      "application/vnd.jupyter.widget-view+json": {
       "model_id": "b83672c1529e40e6ae3f9eec4cbd3536",
       "version_major": 2,
       "version_minor": 0
      },
      "text/plain": [
       "HBox(children=(VBox(children=(Output(),)),), layout=Layout(width='95%'))"
      ]
     },
     "metadata": {},
     "output_type": "display_data"
    }
   ],
   "source": [
    "iw = widgets.interactive_output(run_predictions, {'text': textbox, 'n': slider})\n",
    "z = widgets.HBox([widgets.VBox([iw])], text_width='300px')\n",
    "z.layout.width = '95%'\n",
    "z"
   ]
  },
  {
   "cell_type": "code",
   "execution_count": 357,
   "id": "4ba5c843",
   "metadata": {},
   "outputs": [
    {
     "data": {
      "application/vnd.jupyter.widget-view+json": {
       "model_id": "71630ba7018a4018b80e5e165621ca20",
       "version_major": 2,
       "version_minor": 0
      },
      "text/plain": [
       "HTML(value=\"<HR><H4>If you didn't find what you were looking for,\\n    try increasing the number of responses …"
      ]
     },
     "metadata": {},
     "output_type": "display_data"
    },
    {
     "data": {
      "application/vnd.jupyter.widget-view+json": {
       "model_id": "1b09b429924e42098612ffbb4e0718f4",
       "version_major": 2,
       "version_minor": 0
      },
      "text/plain": [
       "IntSlider(value=5, continuous_update=False, description='Responses', max=25, min=1)"
      ]
     },
     "metadata": {},
     "output_type": "display_data"
    },
    {
     "data": {
      "application/vnd.jupyter.widget-view+json": {
       "model_id": "151c3b503bb244289f24b9844ffdc9e9",
       "version_major": 2,
       "version_minor": 0
      },
      "text/plain": [
       "HBox(children=(VBox(children=(Text(value='How do I save more money?', continuous_update=False, description='Qu…"
      ]
     },
     "metadata": {},
     "output_type": "display_data"
    }
   ],
   "source": [
    "display(widgets.HTML(\"\"\"<HR><H4>If you didn't find what you were looking for,\n",
    "    try increasing the number of responses or rehrasing your question\"\"\"))\n",
    "display(slider)\n",
    "widgets.HBox([widgets.VBox([textbox])])"
   ]
  },
  {
   "cell_type": "code",
   "execution_count": 38,
   "id": "545c1f58",
   "metadata": {},
   "outputs": [],
   "source": [
    "# widgets.interact(run_predictions, text='Hi there!', continuous_update=False);"
   ]
  }
 ],
 "metadata": {
  "environment": {
   "name": "common-cu110.m76",
   "type": "gcloud",
   "uri": "gcr.io/deeplearning-platform-release/base-cu110:m76"
  },
  "kernelspec": {
   "display_name": "Python 3",
   "language": "python",
   "name": "python3"
  },
  "language_info": {
   "codemirror_mode": {
    "name": "ipython",
    "version": 3
   },
   "file_extension": ".py",
   "mimetype": "text/x-python",
   "name": "python",
   "nbconvert_exporter": "python",
   "pygments_lexer": "ipython3",
   "version": "3.7.10"
  }
 },
 "nbformat": 4,
 "nbformat_minor": 5
}
