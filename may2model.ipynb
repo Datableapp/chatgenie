{
 "cells": [
  {
   "cell_type": "markdown",
   "id": "5e371a8b",
   "metadata": {},
   "source": [
    "<img src=\"saverlife.png\" width=\"400\">"
   ]
  },
  {
   "cell_type": "markdown",
   "id": "08c97a82",
   "metadata": {},
   "source": [
    "# Chat Genie Demo\n",
    "### Write a question and hit enter"
   ]
  },
  {
   "cell_type": "code",
   "execution_count": 11,
   "id": "e6ae1b6a",
   "metadata": {},
   "outputs": [],
   "source": [
    "import ipywidgets as widgets\n",
    "from fastai.text.all import *\n",
    "import urllib.request\n",
    "from os.path import exists\n",
    "import requests"
   ]
  },
  {
   "cell_type": "code",
   "execution_count": 12,
   "id": "61e5a6d3",
   "metadata": {},
   "outputs": [],
   "source": [
    "def _end_headline(x):\n",
    "    if type(x) != str: return ''\n",
    "    if x[-1] in ['.', '?', '!', '…', ':', '“', '”']: return x + ' '\n",
    "    else: return x + '. '\n",
    "\n",
    "def breakup_text(text, max=90):\n",
    "    if len(text) < max:\n",
    "        print(text)\n",
    "    else:\n",
    "        for i in range(max-1,1,-1):\n",
    "            if text[i] == ' ':\n",
    "                print(text[:i])\n",
    "                break\n",
    "        breakup_text(text[i:].strip())"
   ]
  },
  {
   "cell_type": "code",
   "execution_count": 13,
   "id": "490ab1bc",
   "metadata": {},
   "outputs": [],
   "source": [
    "# MODEL_URL = \"https://www.dropbox.com/s/tmu82r4pd9h0ek8/chat_model.pkl?dl=1\"\n",
    "# if not exists('model.pkl'):\n",
    "#     urllib.request.urlretrieve(MODEL_URL, \"model.pkl\")\n",
    "\n",
    "# learn = load_learner(\"model.pkl\")\n",
    "learn = load_learner(\"seg_learner_may2.pkl\")\n",
    "\n",
    "sdf = pd.read_pickle('segment_df_may2.pkl')"
   ]
  },
  {
   "cell_type": "code",
   "execution_count": 14,
   "id": "8b6ba234",
   "metadata": {},
   "outputs": [],
   "source": [
    "text = 'how do i improve credit'"
   ]
  },
  {
   "cell_type": "code",
   "execution_count": 15,
   "id": "cf4a15f5",
   "metadata": {},
   "outputs": [
    {
     "data": {
      "text/html": [],
      "text/plain": [
       "<IPython.core.display.HTML object>"
      ]
     },
     "metadata": {},
     "output_type": "display_data"
    }
   ],
   "source": [
    "pred = learn.predict(text)\n",
    "df = pd.DataFrame(pred[2], columns = ['pct'])\n",
    "df['label_idx'] = df.index\n",
    "df = df.sort_values('pct', ascending=False).iloc[:50]\n",
    "url_df = pd.DataFrame(learn.dls.vocab[1])\n",
    "url_df['label_idx'] = url_df.index\n",
    "df = df.merge(url_df)\n",
    "df.columns = ['pct', 'idx', 'url_segment']\n",
    "df = df.merge(sdf)\n",
    "df['score'] = df['pct'] / (df['text length'] + 30) * 10000\n",
    "df = df.sort_values('score', ascending=False)"
   ]
  },
  {
   "cell_type": "code",
   "execution_count": 28,
   "id": "0ba41a29",
   "metadata": {},
   "outputs": [],
   "source": [
    "class color:\n",
    "   PURPLE = '\\033[95m'\n",
    "   CYAN = '\\033[96m'\n",
    "   DARKCYAN = '\\033[36m'\n",
    "   BLUE = '\\033[94m'\n",
    "   GREEN = '\\033[92m'\n",
    "   YELLOW = '\\033[93m'\n",
    "   RED = '\\033[91m'\n",
    "   BOLD = '\\033[1m'\n",
    "   UNDERLINE = '\\033[4m'\n",
    "   END = '\\033[0m'\n",
    "\n",
    "class preds:\n",
    "    DF = None\n",
    "    QUESTION = None\n",
    "    NUM = None\n",
    "    HEADLINE = None\n",
    "    SUB = None\n",
    "    \n",
    "def predictions(text):\n",
    "    pred = learn.predict(text)\n",
    "    df = pd.DataFrame(pred[2], columns = ['pct'])\n",
    "    df['label_idx'] = df.index\n",
    "    df = df.sort_values('pct', ascending=False).iloc[:50]\n",
    "    url_df = pd.DataFrame(learn.dls.vocab[1])\n",
    "    url_df['label_idx'] = url_df.index\n",
    "    df = df.merge(url_df)\n",
    "    df.columns = ['pct', 'idx', 'url_segment']\n",
    "    df = df.merge(sdf)\n",
    "    df['score'] = df['pct'] / (df['text length'] + 20) * 10000\n",
    "    rows = (df.top_tag == 'Stories') | (df.top_tag == 'Saver Stories')\n",
    "    df.loc[rows, 'score'] = df.loc[rows, 'score'] / 5\n",
    "    df = df.sort_values('score', ascending=False)\n",
    "    preds.DF = df\n",
    "    return(df)\n",
    "\n",
    "def chat_response(text, i):\n",
    "    if i == 0:\n",
    "        df = predictions(text)\n",
    "        for rate in [rate1, rate2, rate3, rate4, rate5,\n",
    "                    rate6, rate7, rate8, rate9, rate10]:\n",
    "            rate.value = 'Did that answer your question?'\n",
    "    else:\n",
    "        df = preds.DF\n",
    "    print(color.BOLD + color.UNDERLINE)\n",
    "    preds.HEADLINE = df.iloc[i]['headline']\n",
    "    breakup_text(df.iloc[i]['headline'])\n",
    "    print(color.END + color.BOLD + color.DARKCYAN)\n",
    "    preds.SUB = df.iloc[i]['subheading']\n",
    "    breakup_text(df.iloc[i]['subheading'])\n",
    "    print(color.END)\n",
    "    breakup_text(df.iloc[i]['text'])\n",
    "    print(f\"\\n{color.GREEN}Read the full article on the SaverLife Blog\")\n",
    "    print(df.iloc[i]['url'])\n",
    "    print(color.END)\n",
    "    \n",
    "    \n",
    "def chat1(text): chat_response(text, 0)\n",
    "def chat2(text): chat_response(text, 1)\n",
    "def chat3(text): chat_response(text, 2)\n",
    "def chat4(text): chat_response(text, 3)\n",
    "def chat5(text): chat_response(text, 4)\n",
    "def chat6(text): chat_response(text, 5)\n",
    "def chat7(text): chat_response(text, 6)\n",
    "def chat8(text): chat_response(text, 7)\n",
    "def chat9(text): chat_response(text, 8)\n",
    "def chat10(text): chat_response(text, 9)\n",
    "    \n",
    "def save_rating(question, rating, i):\n",
    "    if rating != 'Did that answer your question?':\n",
    "        question = question.replace(\"'\", \"''\")\n",
    "        dic = {'Yes': 1, 'Somewhat': 2, 'Not at all': 3}\n",
    "        rating = dic[rating]\n",
    "        url = preds.DF.iloc[i]['url']\n",
    "        segment = preds.DF.iloc[i]['segment']\n",
    "        headers = {'Content-type': 'application/json'}\n",
    "        data = '{\\\"question\\\":\\\"' + question + \\\n",
    "            '\\\",\\\"heading\\\":\\\"' + url + \\\n",
    "            '\\\",\\\"subheading\\\":\\\"' + str(int(segment)) + \\\n",
    "            '\\\",\\\"rating\\\":' + str(rating) + '}'\n",
    "        response = requests.post(\n",
    "            'https://sl2-datascience-api.herokuapp.com/rate_bot_response/',\n",
    "            headers=headers, data=data)\n",
    "        if response.json():\n",
    "            print('There was an error storing your rating. Did you use \"quotes\"?')\n",
    "            print(response.json())\n",
    "        else: print('Thank You for your rating')\n",
    "        response.close()\n",
    "    else: print('')\n",
    "    \n",
    "def save_rating_1(rating, question): save_rating(question, rating, 0)\n",
    "def save_rating_2(rating, question): save_rating(question, rating, 1)\n",
    "def save_rating_3(rating, question): save_rating(question, rating, 2)\n",
    "def save_rating_4(rating, question): save_rating(question, rating, 3)\n",
    "def save_rating_5(rating, question): save_rating(question, rating, 4)\n",
    "def save_rating_6(rating, question): save_rating(question, rating, 5)\n",
    "def save_rating_7(rating, question): save_rating(question, rating, 6)\n",
    "def save_rating_8(rating, question): save_rating(question, rating, 7)\n",
    "def save_rating_9(rating, question): save_rating(question, rating, 8)\n",
    "def save_rating_10(rating, question): save_rating(question, rating, 9)"
   ]
  },
  {
   "cell_type": "code",
   "execution_count": 17,
   "id": "8817af7f",
   "metadata": {},
   "outputs": [],
   "source": [
    "textbox = widgets.Text(\n",
    "    value='How do I save more money?',\n",
    "    placeholder='Write your question here!',\n",
    "    description='Question:',\n",
    "    disabled=False,\n",
    "    continuous_update=False,\n",
    "    layout=widgets.Layout(width='500px')\n",
    ")\n",
    "\n",
    "rate1 = widgets.Dropdown(\n",
    "    options=['Did that answer your question?', 'Yes', 'Somewhat', \"Not at all\"],\n",
    "    value='Did that answer your question?',\n",
    "    description='Rating #1', disabled=False)\n",
    "\n",
    "rate2 = widgets.Dropdown(\n",
    "    options=['Did that answer your question?', 'Yes', 'Somewhat', \"Not at all\"],\n",
    "    value='Did that answer your question?',\n",
    "    description='Rating #2', disabled=False)\n",
    "\n",
    "rate3 = widgets.Dropdown(\n",
    "    options=['Did that answer your question?', 'Yes', 'Somewhat', \"Not at all\"],\n",
    "    value='Did that answer your question?',\n",
    "    description='Rating #3', disabled=False)\n",
    "\n",
    "rate4 = widgets.Dropdown(\n",
    "    options=['Did that answer your question?', 'Yes', 'Somewhat', \"Not at all\"],\n",
    "    value='Did that answer your question?',\n",
    "    description='Rating #4', disabled=False)\n",
    "\n",
    "rate5 = widgets.Dropdown(\n",
    "    options=['Did that answer your question?', 'Yes', 'Somewhat', \"Not at all\"],\n",
    "    value='Did that answer your question?',\n",
    "    description='Rating #5', disabled=False)\n",
    "\n",
    "rate6 = widgets.Dropdown(\n",
    "    options=['Did that answer your question?', 'Yes', 'Somewhat', \"Not at all\"],\n",
    "    value='Did that answer your question?',\n",
    "    description='Rating #6', disabled=False)\n",
    "\n",
    "rate7 = widgets.Dropdown(\n",
    "    options=['Did that answer your question?', 'Yes', 'Somewhat', \"Not at all\"],\n",
    "    value='Did that answer your question?',\n",
    "    description='Rating #7', disabled=False)\n",
    "\n",
    "rate8 = widgets.Dropdown(\n",
    "    options=['Did that answer your question?', 'Yes', 'Somewhat', \"Not at all\"],\n",
    "    value='Did that answer your question?',\n",
    "    description='Rating #8', disabled=False)\n",
    "\n",
    "rate9 = widgets.Dropdown(\n",
    "    options=['Did that answer your question?', 'Yes', 'Somewhat', \"Not at all\"],\n",
    "    value='Did that answer your question?',\n",
    "    description='Rating #9', disabled=False)\n",
    "\n",
    "rate10 = widgets.Dropdown(\n",
    "    options=['Did that answer your question?', 'Yes', 'Somewhat', \"Not at all\"],\n",
    "    value='Did that answer your question?',\n",
    "    description='Rating #10', disabled=False)\n",
    "\n",
    "out1 = widgets.interactive_output(chat1, {'text': textbox})\n",
    "out2 = widgets.interactive_output(chat2, {'text': textbox})\n",
    "out3 = widgets.interactive_output(chat3, {'text': textbox})\n",
    "out4 = widgets.interactive_output(chat4, {'text': textbox})\n",
    "out5 = widgets.interactive_output(chat5, {'text': textbox})\n",
    "out6 = widgets.interactive_output(chat6, {'text': textbox})\n",
    "out7 = widgets.interactive_output(chat7, {'text': textbox})\n",
    "out8 = widgets.interactive_output(chat8, {'text': textbox})\n",
    "out9 = widgets.interactive_output(chat9, {'text': textbox})\n",
    "out10 = widgets.interactive_output(chat10, {'text': textbox})\n",
    "\n",
    "save1 = widgets.interactive_output(save_rating_1, {'rating': rate1, 'question': textbox})\n",
    "save2 = widgets.interactive_output(save_rating_2, {'rating': rate2, 'question': textbox})\n",
    "save3 = widgets.interactive_output(save_rating_3, {'rating': rate3, 'question': textbox})\n",
    "save4 = widgets.interactive_output(save_rating_4, {'rating': rate4, 'question': textbox})\n",
    "save5 = widgets.interactive_output(save_rating_5, {'rating': rate5, 'question': textbox})\n",
    "save6 = widgets.interactive_output(save_rating_1, {'rating': rate6, 'question': textbox})\n",
    "save7 = widgets.interactive_output(save_rating_2, {'rating': rate7, 'question': textbox})\n",
    "save8 = widgets.interactive_output(save_rating_3, {'rating': rate8, 'question': textbox})\n",
    "save9 = widgets.interactive_output(save_rating_4, {'rating': rate9, 'question': textbox})\n",
    "save10 = widgets.interactive_output(save_rating_5, {'rating': rate10, 'question': textbox})"
   ]
  },
  {
   "cell_type": "code",
   "execution_count": 18,
   "id": "0209c898",
   "metadata": {},
   "outputs": [
    {
     "data": {
      "application/vnd.jupyter.widget-view+json": {
       "model_id": "163a0c381f3645b190420415988fc2d1",
       "version_major": 2,
       "version_minor": 0
      },
      "text/plain": [
       "HBox(children=(VBox(children=(Text(value='How do I save more money?', continuous_update=False, description='Qu…"
      ]
     },
     "metadata": {},
     "output_type": "display_data"
    }
   ],
   "source": [
    "widgets.HBox([widgets.VBox([textbox])])"
   ]
  },
  {
   "cell_type": "markdown",
   "id": "46dd033c",
   "metadata": {},
   "source": [
    "### Top 10 Responses"
   ]
  },
  {
   "cell_type": "code",
   "execution_count": 19,
   "id": "976c78f5",
   "metadata": {},
   "outputs": [
    {
     "data": {
      "application/vnd.jupyter.widget-view+json": {
       "model_id": "b074bc3c3b314a0bb8286b64f04a71c7",
       "version_major": 2,
       "version_minor": 0
      },
      "text/plain": [
       "HBox(children=(VBox(children=(Output(outputs=({'output_type': 'display_data', 'data': {'text/plain': '<IPython…"
      ]
     },
     "metadata": {},
     "output_type": "display_data"
    }
   ],
   "source": [
    "widgets.HBox([widgets.VBox([out1, rate1, save1, out2, rate2, save2, out3, rate3, save3])])"
   ]
  },
  {
   "cell_type": "code",
   "execution_count": 20,
   "id": "d01a4f01",
   "metadata": {},
   "outputs": [
    {
     "data": {
      "application/vnd.jupyter.widget-view+json": {
       "model_id": "5a889e2f318b431f8e8f59c135ad0665",
       "version_major": 2,
       "version_minor": 0
      },
      "text/plain": [
       "HBox(children=(VBox(children=(Output(outputs=({'output_type': 'stream', 'text': '\\x1b[1m\\x1b[4m\\nWeek 1 Stash …"
      ]
     },
     "metadata": {},
     "output_type": "display_data"
    }
   ],
   "source": [
    "widgets.HBox([widgets.VBox([out4, rate4, save4, out5, rate5, save5, out6, rate6, save6])])"
   ]
  },
  {
   "cell_type": "code",
   "execution_count": 21,
   "id": "807ea060",
   "metadata": {},
   "outputs": [
    {
     "data": {
      "application/vnd.jupyter.widget-view+json": {
       "model_id": "d4e4823d27154f1face203fb2c90e464",
       "version_major": 2,
       "version_minor": 0
      },
      "text/plain": [
       "HBox(children=(VBox(children=(Output(outputs=({'output_type': 'stream', 'text': '\\x1b[1m\\x1b[4m\\nSaverLife’s T…"
      ]
     },
     "metadata": {},
     "output_type": "display_data"
    }
   ],
   "source": [
    "widgets.HBox([widgets.VBox([out7, rate7, save7, out8, rate8, save8, out9, rate9, save9, out10, rate10, save10])])"
   ]
  }
 ],
 "metadata": {
  "environment": {
   "name": "common-cu110.m76",
   "type": "gcloud",
   "uri": "gcr.io/deeplearning-platform-release/base-cu110:m76"
  },
  "kernelspec": {
   "display_name": "Python 3",
   "language": "python",
   "name": "python3"
  },
  "language_info": {
   "codemirror_mode": {
    "name": "ipython",
    "version": 3
   },
   "file_extension": ".py",
   "mimetype": "text/x-python",
   "name": "python",
   "nbconvert_exporter": "python",
   "pygments_lexer": "ipython3",
   "version": "3.7.10"
  }
 },
 "nbformat": 4,
 "nbformat_minor": 5
}
